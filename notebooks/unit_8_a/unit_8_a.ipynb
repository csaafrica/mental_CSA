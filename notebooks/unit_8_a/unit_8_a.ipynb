{
 "cells": [
  {
   "cell_type": "markdown",
   "metadata": {},
   "source": [
    "# Unit 8. Lecture A\n",
    "<br>\n",
    "\n",
    "# Object-Oriented Programming (OOP II)\n",
    "---\n",
    "<br>\n",
    "\n",
    "##### **Dr Sofiat Olaosebikan**\n",
    "##### School of Computing Science\n",
    "##### University of Glasgow\n",
    "<br>\n",
    "\n",
    "##### CS1P. Semester 2. Python 3.x\n",
    " ---"
   ]
  },
  {
   "cell_type": "markdown",
   "metadata": {},
   "source": [
    "<div class=\"alert alert-info\">\n",
    "Object-Oriented Programming (OOP) is a programming paradigm that revolves around the concept of objects. Objects are instances of classes, and classes are user-defined data types made up of attributes and methods. \n",
    "</div>"
   ]
  },
  {
   "cell_type": "markdown",
   "metadata": {},
   "source": [
    "OOP is built upon four core principles:\n",
    "\n",
    "1. **Encapsulation**: This principle bundles attributes and methods into classes. It also _promotes data integrity and security_ by restricting direct access to internal data\n",
    "\n",
    "2. **Inheritance**: It allows creating new classes (subclasses) that inherit properties and behavior from existing classes (superclasses). This _reduces code duplication_ and allows us to create a hierarchy of classes.\n",
    "\n",
    "3. **Polymorphism**: It allows us treat objects of different classes as objects of a common base class. It promotes _adaptability_ and _maintainability_.\n",
    "\n",
    "4. **Abstraction**: It simplifies complex systems by modeling classes based on essential properties and behaviors It hides the underlying implementation details and promotes code _reusability_ and _maintainability_ by separating the \"what\" from the \"how.\""
   ]
  },
  {
   "cell_type": "markdown",
   "metadata": {},
   "source": [
    "So far, we have seen:\n",
    "* how to define a class\n",
    "* instance and class variables\n",
    "* instance and class methods\n",
    "* string representation of an object using `__str__` and `__repr__`"
   ]
  },
  {
   "cell_type": "markdown",
   "metadata": {},
   "source": [
    "## Outline\n",
    "In this lecture, we will cover:\n",
    "* operator overloading\n",
    "* inheritance"
   ]
  },
  {
   "cell_type": "markdown",
   "metadata": {},
   "source": [
    "---\n",
    "\n",
    "<br>\n",
    "\n",
    "### Applying arithmetic operators on identical data types\n",
    "\n",
    "* Python operators: `+`, `*`, and so on, works for built-in classes\n",
    "* The same operator works differently with different data types.\n"
   ]
  },
  {
   "cell_type": "code",
   "execution_count": 2,
   "metadata": {},
   "outputs": [
    {
     "data": {
      "text/plain": [
       "5"
      ]
     },
     "execution_count": 2,
     "metadata": {},
     "output_type": "execute_result"
    }
   ],
   "source": [
    "# add two integers \n",
    "\n",
    "2  +  3"
   ]
  },
  {
   "cell_type": "code",
   "execution_count": 3,
   "metadata": {},
   "outputs": [
    {
     "data": {
      "text/plain": [
       "['1', '2', '3']"
      ]
     },
     "execution_count": 3,
     "metadata": {},
     "output_type": "execute_result"
    }
   ],
   "source": [
    "# merge two lists\n",
    "\n",
    "[\"1\", \"2\"] + [\"3\"]"
   ]
  },
  {
   "cell_type": "code",
   "execution_count": 4,
   "metadata": {},
   "outputs": [
    {
     "data": {
      "text/plain": [
       "'PythonProgramming'"
      ]
     },
     "execution_count": 4,
     "metadata": {},
     "output_type": "execute_result"
    }
   ],
   "source": [
    "# concatenate two strings\n",
    "\n",
    "\"Python\" + \"Programming\""
   ]
  },
  {
   "cell_type": "code",
   "execution_count": 5,
   "metadata": {},
   "outputs": [
    {
     "data": {
      "text/plain": [
       "[0, 0, 0, 0, 0, 0, 0, 0, 0, 0, 0, 0, 0, 0, 0, 0, 0, 0, 0, 0]"
      ]
     },
     "execution_count": 5,
     "metadata": {},
     "output_type": "execute_result"
    }
   ],
   "source": [
    "# create multiple copies of an element \n",
    "[0] * 20"
   ]
  },
  {
   "cell_type": "code",
   "execution_count": 6,
   "metadata": {},
   "outputs": [
    {
     "data": {
      "text/plain": [
       "'PythonPythonPython'"
      ]
     },
     "execution_count": 6,
     "metadata": {},
     "output_type": "execute_result"
    }
   ],
   "source": [
    "# duplicate a string\n",
    "\"Python\" * 3"
   ]
  },
  {
   "cell_type": "code",
   "execution_count": 7,
   "metadata": {},
   "outputs": [
    {
     "data": {
      "text/plain": [
       "True"
      ]
     },
     "execution_count": 7,
     "metadata": {},
     "output_type": "execute_result"
    }
   ],
   "source": [
    "\"A\" < \"a\""
   ]
  },
  {
   "cell_type": "markdown",
   "metadata": {},
   "source": [
    "This feature that allows the same operator to have different meaning according to the context is called **operator overloading**.\n"
   ]
  },
  {
   "cell_type": "markdown",
   "metadata": {},
   "source": [
    "## Operator overloading\n",
    "\n",
    "* In OOP, operator overloading is a powerful concept that allows us to define how operators behave for user-defined data types or objects.\n",
    "* Common operators that can be overloaded include arithmetic operators `(+, -, *, /)` and relational operators `(==, !=, <, >)`\n",
    "* This means we can define how these operators behave when applied to objects of our classes, making our code more intuitive, readable, and expressive.\n"
   ]
  },
  {
   "cell_type": "code",
   "execution_count": 8,
   "metadata": {},
   "outputs": [],
   "source": [
    "class Complex:\n",
    "    \n",
    "    # init method to initialise instance variables\n",
    "    def __init__(self, real, imag):\n",
    "        self.real = real\n",
    "        self.imag = imag\n",
    "    \n",
    "    # string method to display object of Complex class\n",
    "    def __repr__(self):\n",
    "        # assuming there is always a real part\n",
    "        if self.imag == 0:\n",
    "            return f\"{self.real}\"\n",
    "        elif self.imag > 0:\n",
    "            return f\"{self.real}+{self.imag}i\"\n",
    "        # if imaginary part is negative\n",
    "        else:\n",
    "            return f\"{self.real}{self.imag}i\""
   ]
  },
  {
   "cell_type": "code",
   "execution_count": 9,
   "metadata": {},
   "outputs": [],
   "source": [
    "c1 = Complex(2, 1)\n",
    "c2 = Complex(5, -7)"
   ]
  },
  {
   "cell_type": "code",
   "execution_count": 10,
   "metadata": {},
   "outputs": [
    {
     "data": {
      "text/plain": [
       "2+1i"
      ]
     },
     "execution_count": 10,
     "metadata": {},
     "output_type": "execute_result"
    }
   ],
   "source": [
    "c1"
   ]
  },
  {
   "cell_type": "code",
   "execution_count": 11,
   "metadata": {},
   "outputs": [
    {
     "data": {
      "text/plain": [
       "5-7i"
      ]
     },
     "execution_count": 11,
     "metadata": {},
     "output_type": "execute_result"
    }
   ],
   "source": [
    "c2"
   ]
  },
  {
   "cell_type": "code",
   "execution_count": 12,
   "metadata": {},
   "outputs": [
    {
     "ename": "TypeError",
     "evalue": "unsupported operand type(s) for +: 'Complex' and 'Complex'",
     "output_type": "error",
     "traceback": [
      "\u001b[1;31m---------------------------------------------------------------------------\u001b[0m",
      "\u001b[1;31mTypeError\u001b[0m                                 Traceback (most recent call last)",
      "\u001b[1;32m<ipython-input-12-61818d23e61f>\u001b[0m in \u001b[0;36m<module>\u001b[1;34m\u001b[0m\n\u001b[1;32m----> 1\u001b[1;33m \u001b[0mc1\u001b[0m \u001b[1;33m+\u001b[0m \u001b[0mc2\u001b[0m\u001b[1;33m\u001b[0m\u001b[1;33m\u001b[0m\u001b[0m\n\u001b[0m",
      "\u001b[1;31mTypeError\u001b[0m: unsupported operand type(s) for +: 'Complex' and 'Complex'"
     ]
    }
   ],
   "source": [
    "c1 + c2"
   ]
  },
  {
   "cell_type": "markdown",
   "metadata": {},
   "source": [
    "### Arithmetic Operator Overloading\n",
    "\n",
    "* We cannot perform arithmetic operations on any two objects of a user-defined classs unless we explicitly define a method to handle this within the class.\n",
    "* To overload arithmetic operators within our class, we use the special methods below:\n",
    "\n",
    "<br>\n",
    "\n",
    "|Name &nbsp; &nbsp; &nbsp; &nbsp; &nbsp; | Symbol| Special Function |\n",
    "| --- | --- | --- |\n",
    "| Addition | `+` | `__add__(self, other)` |\n",
    "| Subtraction | `-` | `__sub__(self, other)` |\n",
    "| Division | `/` | `__truediv__(self, other)` |\n",
    "| Floor division | `//` | `__floordiv__(self, other)` |\n",
    "| Modulus | `%` | `__mod__(self, other)` |\n",
    "| Power | `**` | `__pow__(self, other)` |\n",
    "\n",
    "See section 3.3.7 in this [link](https://docs.python.org/3.2/reference/datamodel.html) for more information on operator overloading in Python.\n",
    "\n",
    "\n",
    "* Notice that when you add two integers, the result is an integer. Similarly, when you add two strings, the result is a string. \n",
    "* So, when you implement the `__add__()` method in your class, it is sensible that you return the class instance. "
   ]
  },
  {
   "cell_type": "code",
   "execution_count": 13,
   "metadata": {},
   "outputs": [],
   "source": [
    "class Complex:\n",
    "    \n",
    "    # init method to initialise instance variables\n",
    "    def __init__(self, real, imag):\n",
    "        self.real = real\n",
    "        self.imag = imag\n",
    "    \n",
    "    # string method to display object of Complex class\n",
    "    def __repr__(self):\n",
    "        # assuming there is always a real part\n",
    "        if self.imag == 0:\n",
    "            return f\"{self.real}\"\n",
    "        elif self.imag > 0:\n",
    "            return f\"{self.real}+{self.imag}i\"\n",
    "        # if imaginary part is negative\n",
    "        else:\n",
    "            return f\"{self.real}{self.imag}i\"\n",
    "    \n",
    "    # ================ Arithmetic Operators ================\n",
    "    \n",
    "    # special method to overload the + operator for our Complex class\n",
    "    def __add__(self, other):\n",
    "        return Complex(self.real+other.real, self.imag+other.imag)"
   ]
  },
  {
   "cell_type": "markdown",
   "metadata": {},
   "source": [
    "**Line 22:** Again, the `__add__()` method is used to tell Python what to do when we add two objects created from our `Complex` class.\n",
    "\n",
    "* `self` is the first parameter of any method defined within the class\n",
    "     \n",
    "* `other` represents the second `Complex` object\n",
    "\n",
    "**Line 23.** Return value here is `Complex`."
   ]
  },
  {
   "cell_type": "code",
   "execution_count": 14,
   "metadata": {},
   "outputs": [],
   "source": [
    "c1 = Complex(2, 1)\n",
    "c2 = Complex(5, -7)"
   ]
  },
  {
   "cell_type": "code",
   "execution_count": 15,
   "metadata": {},
   "outputs": [
    {
     "data": {
      "text/plain": [
       "7-6i"
      ]
     },
     "execution_count": 15,
     "metadata": {},
     "output_type": "execute_result"
    }
   ],
   "source": [
    "c1 + c2"
   ]
  },
  {
   "cell_type": "code",
   "execution_count": 16,
   "metadata": {},
   "outputs": [
    {
     "ename": "TypeError",
     "evalue": "unsupported operand type(s) for -: 'Complex' and 'Complex'",
     "output_type": "error",
     "traceback": [
      "\u001b[1;31m---------------------------------------------------------------------------\u001b[0m",
      "\u001b[1;31mTypeError\u001b[0m                                 Traceback (most recent call last)",
      "\u001b[1;32m<ipython-input-16-b86d6151af56>\u001b[0m in \u001b[0;36m<module>\u001b[1;34m\u001b[0m\n\u001b[0;32m      1\u001b[0m \u001b[1;31m# can you guess the output here?\u001b[0m\u001b[1;33m\u001b[0m\u001b[1;33m\u001b[0m\u001b[1;33m\u001b[0m\u001b[0m\n\u001b[0;32m      2\u001b[0m \u001b[1;33m\u001b[0m\u001b[0m\n\u001b[1;32m----> 3\u001b[1;33m \u001b[0mc1\u001b[0m \u001b[1;33m-\u001b[0m \u001b[0mc2\u001b[0m\u001b[1;33m\u001b[0m\u001b[1;33m\u001b[0m\u001b[0m\n\u001b[0m",
      "\u001b[1;31mTypeError\u001b[0m: unsupported operand type(s) for -: 'Complex' and 'Complex'"
     ]
    }
   ],
   "source": [
    "# can you guess the output here?\n",
    "\n",
    "c1 - c2"
   ]
  },
  {
   "cell_type": "code",
   "execution_count": 17,
   "metadata": {},
   "outputs": [],
   "source": [
    "class Complex:\n",
    "    \n",
    "    # init method to initialise instance variables\n",
    "    def __init__(self, real, imag):\n",
    "        self.real = real\n",
    "        self.imag = imag\n",
    "    \n",
    "    # string method to display object of Complex class\n",
    "    def __repr__(self):\n",
    "        # assuming there is always a real part\n",
    "        if self.imag == 0:\n",
    "            return f\"{self.real}\"\n",
    "        elif self.imag > 0:\n",
    "            return f\"{self.real}+{self.imag}i\"\n",
    "        # if imaginary part is negative\n",
    "        else:\n",
    "            return f\"{self.real}{self.imag}i\"\n",
    "    \n",
    "    # ================ Arithmetic Operators ================\n",
    "    \n",
    "    # special method to overload the + operator for our Complex class\n",
    "    def __add__(self, other):\n",
    "        return Complex(self.real+other.real, self.imag+other.imag)\n",
    "\n",
    "    # special method to overload the - operator for our Complex class\n",
    "    def __sub__(self, other):\n",
    "        return Complex(self.real-other.real, self.imag-other.imag)"
   ]
  },
  {
   "cell_type": "code",
   "execution_count": 18,
   "metadata": {},
   "outputs": [],
   "source": [
    "c1 = Complex(2, 1)\n",
    "c2 = Complex(5, -7)"
   ]
  },
  {
   "cell_type": "code",
   "execution_count": 19,
   "metadata": {},
   "outputs": [
    {
     "data": {
      "text/plain": [
       "-3+8i"
      ]
     },
     "execution_count": 19,
     "metadata": {},
     "output_type": "execute_result"
    }
   ],
   "source": [
    "c1 - c2"
   ]
  },
  {
   "cell_type": "markdown",
   "metadata": {},
   "source": [
    "### Relational Operator Overloading\n",
    "\n",
    "* Similar to arithmetic operator overloading, we cannot perform relational operations on any two objects of a user-defined classs unless we explicitly define a method to handle this within the class.\n",
    "* To overload relational operators within our class, we use the special methods below:\n",
    "\n",
    "<br>\n",
    "\n",
    "|Name &nbsp; &nbsp; &nbsp; &nbsp; &nbsp; | Symbol| Special Function |\n",
    "| --- | --- | --- |\n",
    "| Equality | `==` | `__eq__(self, other)` |\n",
    "| Inequality | `!=` | `__ne__(self, other)` |\n",
    "| Less than | `<` | `__lt__(self, other)` |\n",
    "| Less than or equal to | `<=` | `__le__(self, other)` |\n",
    "| Greater than | `>` | `__gt__(self, other)` |\n",
    "| Greater than or equal to | `>=` | `__ge__(self, other)` |"
   ]
  },
  {
   "cell_type": "code",
   "execution_count": 20,
   "metadata": {},
   "outputs": [],
   "source": [
    "a = [1,2,3]\n",
    "b = [1,2,3]"
   ]
  },
  {
   "cell_type": "code",
   "execution_count": 21,
   "metadata": {},
   "outputs": [
    {
     "name": "stdout",
     "output_type": "stream",
     "text": [
      "a is b: False\n",
      "a == b: True\n"
     ]
    }
   ],
   "source": [
    "# Notice list returns True when we use == to check if \n",
    "# two lists holds the same elements\n",
    "\n",
    "print(f\"a is b: {a is b}\")\n",
    "print(f\"a == b: {a == b}\")"
   ]
  },
  {
   "cell_type": "code",
   "execution_count": 31,
   "metadata": {},
   "outputs": [
    {
     "name": "stdout",
     "output_type": "stream",
     "text": [
      "[1, 2, 3]\n"
     ]
    },
    {
     "data": {
      "text/plain": [
       "False"
      ]
     },
     "execution_count": 31,
     "metadata": {},
     "output_type": "execute_result"
    }
   ],
   "source": [
    "new_a = a[:]\n",
    "print(new_a)\n",
    "new_a is a"
   ]
  },
  {
   "cell_type": "code",
   "execution_count": 32,
   "metadata": {},
   "outputs": [],
   "source": [
    "c = \"Hello, World!\"\n",
    "d = \"Hello, World!\""
   ]
  },
  {
   "cell_type": "code",
   "execution_count": 33,
   "metadata": {},
   "outputs": [
    {
     "name": "stdout",
     "output_type": "stream",
     "text": [
      "c is d: False\n",
      "c == d: True\n"
     ]
    }
   ],
   "source": [
    "print(f\"c is d: {c is d}\")\n",
    "print(f\"c == d: {c == d}\")"
   ]
  },
  {
   "cell_type": "code",
   "execution_count": 34,
   "metadata": {},
   "outputs": [],
   "source": [
    "# Two objects created from the same class Complex with the same variables\n",
    "\n",
    "c3 = Complex(2, -3)\n",
    "c4 = Complex(2, -3)"
   ]
  },
  {
   "cell_type": "code",
   "execution_count": 35,
   "metadata": {},
   "outputs": [
    {
     "name": "stdout",
     "output_type": "stream",
     "text": [
      "c3 is c4: False\n",
      "c3 == c4: True\n"
     ]
    }
   ],
   "source": [
    "print(f\"c3 is c4: {c3 is c4}\")\n",
    "print(f\"c3 == c4: {c3 == c4}\")"
   ]
  },
  {
   "cell_type": "markdown",
   "metadata": {},
   "source": [
    "### The `is` and `==` operator\n",
    "\n",
    "* `is` Operator:\n",
    "\n",
    "    * Checks for object identity, i.e., whether two variables reference the same object in memory.\n",
    "    * Returns `True` if the variables refer to the same object, and `False` otherwise.\n",
    "\n",
    "* `==` Operator:\n",
    "\n",
    "    * Checks for equality of values, i.e., whether the content of two variables is the same.\n",
    "    * Returns `True` if the values are equal, and `False` otherwise.\n"
   ]
  },
  {
   "cell_type": "markdown",
   "metadata": {},
   "source": [
    "The magic of the equality operator `==` happens in the `__eq__()` method of the object to the left of the `==` sign. If this method is not implemented, then `==` compares the memory addresses of the two objects by default (i.e., it does the same thing as `is`)."
   ]
  },
  {
   "cell_type": "code",
   "execution_count": 36,
   "metadata": {},
   "outputs": [],
   "source": [
    "class Complex:\n",
    "    \n",
    "    # init method to initialise instance variables\n",
    "    def __init__(self, real, imag):\n",
    "        self.real = real\n",
    "        self.imag = imag\n",
    "    \n",
    "    # string method to display object of Complex class\n",
    "    def __repr__(self):\n",
    "        # assuming there is always a real part\n",
    "        if self.imag == 0:\n",
    "            return f\"{self.real}\"\n",
    "        elif self.imag > 0:\n",
    "            return f\"{self.real}+{self.imag}i\"\n",
    "        # if imaginary part is negative\n",
    "        else:\n",
    "            return f\"{self.real}{self.imag}i\"\n",
    "    \n",
    "    # ================ Arithmetic Operators ================\n",
    "    \n",
    "    # special method to overload the + operator for our Complex class\n",
    "    def __add__(self, other):\n",
    "        return Complex(self.real+other.real, self.imag+other.imag)\n",
    "\n",
    "    # special method to overload the - operator for our Complex class\n",
    "    def __sub__(self, other):\n",
    "        return Complex(self.real-other.real, self.imag-other.imag)\n",
    "    \n",
    "    # ================ Relational Operators ================\n",
    "    \n",
    "    # You need to override the equality operator with __eq__\n",
    "    def __eq__(self, other):\n",
    "        # first check if other is an instance of Complex\n",
    "        if isinstance(other, Complex):\n",
    "            return self.real == other.real and self.imag == other.imag\n",
    "        # do not compare with objects that are instances of another class\n",
    "        return \"Objects not of the same type\"\n",
    "           \n",
    "    # it is sensible to create the inverse of equality (!=)\n",
    "    def __ne__(self, other):\n",
    "        if isinstance(other, Complex):\n",
    "            return not self.__eq__(other)\n",
    "        # do not compare with objects that are instances of another class\n",
    "        return \"Objects not of the same type\""
   ]
  },
  {
   "cell_type": "code",
   "execution_count": 37,
   "metadata": {},
   "outputs": [],
   "source": [
    "c1 = Complex(2, 1)\n",
    "c2 = Complex(5, -7)"
   ]
  },
  {
   "cell_type": "code",
   "execution_count": 38,
   "metadata": {},
   "outputs": [
    {
     "name": "stdout",
     "output_type": "stream",
     "text": [
      "c1 is c2: False\n",
      "c1 == c2: False\n",
      "c1 != c2: True\n"
     ]
    }
   ],
   "source": [
    "# Two objects created from the same class Complex with different variables\n",
    "\n",
    "print(f\"c1 is c2: {c1 is c2}\")\n",
    "print(f\"c1 == c2: {c1 == c2}\")\n",
    "print(f\"c1 != c2: {c1 != c2}\")"
   ]
  },
  {
   "cell_type": "code",
   "execution_count": 39,
   "metadata": {},
   "outputs": [],
   "source": [
    "# Two objects created from the same class Complex with the same variables\n",
    "\n",
    "c3 = Complex(2, -3)\n",
    "c4 = Complex(2, -3)"
   ]
  },
  {
   "cell_type": "code",
   "execution_count": 40,
   "metadata": {},
   "outputs": [
    {
     "name": "stdout",
     "output_type": "stream",
     "text": [
      "c3 is c4: False\n",
      "c3 == c4: True\n",
      "c3 != c4: False\n"
     ]
    }
   ],
   "source": [
    "print(f\"c3 is c4: {c3 is c4}\")\n",
    "print(f\"c3 == c4: {c3 == c4}\")\n",
    "print(f\"c3 != c4: {c3 != c4}\")"
   ]
  },
  {
   "cell_type": "code",
   "execution_count": 41,
   "metadata": {},
   "outputs": [],
   "source": [
    "# try to compare Complex with a list\n",
    "c5 = [4, -2]\n",
    "c6 = Complex(4, -2)"
   ]
  },
  {
   "cell_type": "code",
   "execution_count": 42,
   "metadata": {},
   "outputs": [
    {
     "name": "stdout",
     "output_type": "stream",
     "text": [
      "c5 is c6: False\n",
      "c5 == c6: Objects not of the same type\n",
      "c5 != c6: Objects not of the same type\n"
     ]
    }
   ],
   "source": [
    "print(f\"c5 is c6: {c5 is c6}\")\n",
    "print(f\"c5 == c6: {c5 == c6}\")\n",
    "print(f\"c5 != c6: {c5 != c6}\")"
   ]
  },
  {
   "cell_type": "markdown",
   "metadata": {},
   "source": [
    "**NOTE:** \n",
    "1. The inverse of equality (`!=`) works by default in Python3, as long as `__eq__` is defined. \n",
    "2. By implementing the `__eq__` method, your class automatically becomes unhashable. Implication is that you cannot store your class in sets and dictionaries. \n",
    "\n",
    "> An object is _hashable_ if it has a hash value which never changes during its lifetime.\n",
    "\n",
    "> For example, a list is _unhashable_ because it is mutable, its contents can change at any time."
   ]
  },
  {
   "cell_type": "code",
   "execution_count": 43,
   "metadata": {},
   "outputs": [
    {
     "ename": "TypeError",
     "evalue": "unhashable type: 'Complex'",
     "output_type": "error",
     "traceback": [
      "\u001b[1;31m---------------------------------------------------------------------------\u001b[0m",
      "\u001b[1;31mTypeError\u001b[0m                                 Traceback (most recent call last)",
      "\u001b[1;32m<ipython-input-43-24333fa7f891>\u001b[0m in \u001b[0;36m<module>\u001b[1;34m\u001b[0m\n\u001b[0;32m      1\u001b[0m \u001b[1;31m# class Complex is unhashable because of __eq__\u001b[0m\u001b[1;33m\u001b[0m\u001b[1;33m\u001b[0m\u001b[1;33m\u001b[0m\u001b[0m\n\u001b[0;32m      2\u001b[0m \u001b[1;33m\u001b[0m\u001b[0m\n\u001b[1;32m----> 3\u001b[1;33m \u001b[0mnew_dict\u001b[0m \u001b[1;33m=\u001b[0m \u001b[1;33m{\u001b[0m\u001b[0mc1\u001b[0m\u001b[1;33m:\u001b[0m \u001b[1;34m\"c1\"\u001b[0m\u001b[1;33m}\u001b[0m\u001b[1;33m\u001b[0m\u001b[1;33m\u001b[0m\u001b[0m\n\u001b[0m\u001b[0;32m      4\u001b[0m \u001b[1;31m#new_set = set([c2])\u001b[0m\u001b[1;33m\u001b[0m\u001b[1;33m\u001b[0m\u001b[1;33m\u001b[0m\u001b[0m\n\u001b[0;32m      5\u001b[0m \u001b[0mprint\u001b[0m\u001b[1;33m(\u001b[0m\u001b[0mnew_dict\u001b[0m\u001b[1;33m,\u001b[0m \u001b[0mnew_set\u001b[0m\u001b[1;33m)\u001b[0m\u001b[1;33m\u001b[0m\u001b[1;33m\u001b[0m\u001b[0m\n",
      "\u001b[1;31mTypeError\u001b[0m: unhashable type: 'Complex'"
     ]
    }
   ],
   "source": [
    "# class Complex is unhashable because of __eq__\n",
    "\n",
    "new_dict = {c1: \"c1\"}\n",
    "#new_set = set([c2])\n",
    "print(new_dict, new_set)"
   ]
  },
  {
   "cell_type": "markdown",
   "metadata": {},
   "source": [
    "* If you anticipate that your instance variables will be modified during the lifetime of the object, it is recommended to leave it as unhashable.\n",
    "* If you are creating an immutable data type, it is recommended that you (re)hash it, whenever `__eq__` is within your class.\n",
    "* To compare and hash efficiently, use `.__dict__` to access all variables.\n"
   ]
  },
  {
   "cell_type": "code",
   "execution_count": 44,
   "metadata": {},
   "outputs": [],
   "source": [
    "class Complex:\n",
    "    \n",
    "    # init method to initialise instance variables\n",
    "    def __init__(self, real, imag):\n",
    "        self.real = real\n",
    "        self.imag = imag\n",
    "    \n",
    "    # string method to display object of Complex class\n",
    "    def __repr__(self):\n",
    "        # assuming there is always a real part\n",
    "        if self.imag == 0:\n",
    "            return f\"{self.real}\"\n",
    "        elif self.imag > 0:\n",
    "            return f\"{self.real}+{self.imag}i\"\n",
    "        # if imaginary part is negative\n",
    "        else:\n",
    "            return f\"{self.real}{self.imag}i\"\n",
    "    \n",
    "    # ================ Arithmetic Operators ================\n",
    "    \n",
    "    # special method to overload the + operator for our Complex class\n",
    "    def __add__(self, other):\n",
    "        return Complex(self.real+other.real, self.imag+other.imag)\n",
    "\n",
    "    # special method to overload the - operator for our Complex class\n",
    "    def __sub__(self, other):\n",
    "        return Complex(self.real-other.real, self.imag-other.imag)\n",
    "    \n",
    "    # ================ Relational Operators ================\n",
    "    \n",
    "    # You need to override the equality operator with __eq__\n",
    "    def __eq__(self, other):\n",
    "        # first check if other is an instance of Complex\n",
    "        if isinstance(other, Complex):\n",
    "            return self.real == other.real and self.imag == other.imag\n",
    "        # do not compare with objects that are instances of another class\n",
    "        return \"Objects not of the same type\"\n",
    "           \n",
    "    # it is sensible to create the inverse of equality (!=)\n",
    "    def __ne__(self, other):\n",
    "        if isinstance(other, Complex):\n",
    "            return not self.__eq__(other)\n",
    "        # do not compare with objects that are instances of another class\n",
    "        return \"Objects not of the same type\"\n",
    "    \n",
    "    # implement __hash__ to make instances hashable\n",
    "    # however, all instance variables must be hashable\n",
    "    def __hash__(self):\n",
    "        #return hash((self.real, self.imag))\n",
    "        return hash(tuple(self.__dict__))"
   ]
  },
  {
   "cell_type": "code",
   "execution_count": 45,
   "metadata": {},
   "outputs": [],
   "source": [
    "c1 = Complex(2, 1)\n",
    "c2 = Complex(5, -7)"
   ]
  },
  {
   "cell_type": "code",
   "execution_count": 46,
   "metadata": {},
   "outputs": [
    {
     "name": "stdout",
     "output_type": "stream",
     "text": [
      "{2+1i: 'c1'}\n",
      "{5-7i}\n"
     ]
    }
   ],
   "source": [
    "# class Student is now hashable because we added __hash__\n",
    "\n",
    "new_dict = {c1: \"c1\"}\n",
    "new_set = set([c2])\n",
    "print(new_dict)\n",
    "print(new_set)"
   ]
  },
  {
   "cell_type": "code",
   "execution_count": null,
   "metadata": {},
   "outputs": [],
   "source": []
  },
  {
   "cell_type": "markdown",
   "metadata": {},
   "source": [
    "---\n",
    "\n",
    "<br>\n",
    "\n",
    "# Inheritance\n",
    "\n",
    "* Inheritance allows us to create new classes (subclasses) based on existing classes (superclasses). \n",
    "* In Python, you can achieve this by specifying the superclass in parentheses after the new class name.\n",
    "* This promotes code reusability, improves organization, and simplifies the modeling of hierarchical relationships between objects.\n",
    "\n",
    "<br>\n",
    "\n",
    "**Key Concepts:**\n",
    "\n",
    "* **Superclass (Base Class or Parent Class)**: The original class that serves as the foundation for the new class. It defines the core attributes and methods that will be inherited.\n",
    "* **Subclass (Derived Class or Child Class)**: The new class that inherits properties and functionalities from the superclass. It can add its own unique attributes and methods while still retaining the inherited ones.\n",
    "* **Inheritance Relationship**: The connection between the subclass and superclass. The subclass \"inherits from\" the superclass."
   ]
  },
  {
   "cell_type": "code",
   "execution_count": null,
   "metadata": {},
   "outputs": [],
   "source": [
    "import tkinter\n",
    "import inspect\n",
    "print(inspect.getsource(tkinter))"
   ]
  },
  {
   "cell_type": "code",
   "execution_count": 57,
   "metadata": {},
   "outputs": [],
   "source": [
    "class Student:\n",
    "    \n",
    "    # class variables    \n",
    "    total_students = 0\n",
    "    all_students = [] # new class variable\n",
    "    \n",
    "    # init method to initialise instance variables\n",
    "    def __init__(self, first_name, last_name, lab):\n",
    "        self.first_name = first_name        \n",
    "        self.last_name = last_name\n",
    "        self.lab = lab\n",
    "        Student.total_students += 1 \n",
    "        # keep track of each Student object created from our class\n",
    "        Student.all_students.append(self) \n",
    "    \n",
    "    # instance method to get full name\n",
    "    def full_name(self):\n",
    "        return f\"{self.first_name} {self.last_name}\"\n",
    "    \n",
    "    # instance method\n",
    "    def mood(self):\n",
    "        return f\"{self.full_name()} enjoys Python programming!\"\n",
    "    \n",
    "    # instance method to get email\n",
    "    def get_email(self):\n",
    "        full_name = f\"{self.first_name.lower()}.{self.last_name.lower()}\"\n",
    "        return f\"{full_name}@student.gla.ac.uk\"\n",
    "    \n",
    "    # instance method to allow a student change lab\n",
    "    def change_lab(self, new_lab):        \n",
    "        self.lab = new_lab\n",
    "    \n",
    "    # class method to get all students\n",
    "    @classmethod\n",
    "    def get_all_students(cls):\n",
    "        # this returns an object representation of each Student created from our class\n",
    "        return cls.all_students\n",
    "    \n",
    "     # class method to get students in the same lab\n",
    "    @classmethod\n",
    "    def get_students_in_same_lab(cls, lab):\n",
    "        same_lab = [stud.full_name() for stud in cls.all_students if stud.lab == lab]\n",
    "        return same_lab\n",
    "    \n",
    "    # representation method\n",
    "    def __repr__(self):\n",
    "        return f\"{self.first_name} {self.last_name} -> {self.lab}\""
   ]
  },
  {
   "cell_type": "code",
   "execution_count": 58,
   "metadata": {},
   "outputs": [],
   "source": [
    "# New GraduateStudent class inheriting from Student\n",
    "\n",
    "class GraduateStudent(Student):\n",
    "    # additional class variable for GraduateStudent\n",
    "    total_grad_students = 0\n",
    "    all_grad_students = []\n",
    "\n",
    "    # additional init method for GraduateStudent\n",
    "    def __init__(self, first_name, last_name, lab, research_area):\n",
    "        # calling the init method of the parent class (Student)\n",
    "        super().__init__(first_name, last_name, lab)\n",
    "        self.research_area = research_area\n",
    "        GraduateStudent.total_grad_students += 1\n",
    "        GraduateStudent.all_grad_students.append(self)\n",
    "\n",
    "    # additional instance method for GraduateStudent\n",
    "    def get_research_area(self):\n",
    "        return self.research_area\n",
    "    \n",
    "    # override the get_email method\n",
    "    def get_email(self):\n",
    "        return f\"{self.first_name}{self.last_name}@research.uni.ac\"\n",
    "\n",
    "    # override the __repr__ method to include research area\n",
    "    def __repr__(self):\n",
    "        return f\"{self.full_name()}. Research area: {self.research_area}\""
   ]
  },
  {
   "cell_type": "markdown",
   "metadata": {},
   "source": [
    "* In the code above, we created a new class called `GraduateStudent`, which inherits from the `Student` class. \n",
    "* We created new class variables `total_grad_students` and `all_grad_students` specific to the `GraduateStudent` class. \n",
    "* The `__init__` method of the `GraduateStudent` class calls the `__init__` method of the parent class (`Student`) using `super()`.\n",
    "* We added a new method `get_research_area` specific to the `GraduateStudent` class\n",
    "* The `super()` function is used to call the methods of the parent class.\n",
    "* We overrode the `get_email` and `__repr__` methods from the parent class to include information specific to `GraduateStudent`."
   ]
  },
  {
   "cell_type": "code",
   "execution_count": 59,
   "metadata": {},
   "outputs": [],
   "source": [
    "student1 = Student(\"Jacob\", \"Liu\", \"LB10\")\n",
    "student2 = Student(\"Cara\", \"Lewis\", \"LB07\")\n",
    "student3 = GraduateStudent(\"Bonnie\", \"Shi\", \"LB02\", \"Artificial Intelligence\")\n",
    "student4 = GraduateStudent(\"Kate\", \"Mykytenko\", \"LB09\", \"Data Science\") "
   ]
  },
  {
   "cell_type": "code",
   "execution_count": 60,
   "metadata": {},
   "outputs": [
    {
     "data": {
      "text/plain": [
       "'cara.lewis@student.gla.ac.uk'"
      ]
     },
     "execution_count": 60,
     "metadata": {},
     "output_type": "execute_result"
    }
   ],
   "source": [
    "student2.get_email()"
   ]
  },
  {
   "cell_type": "code",
   "execution_count": 61,
   "metadata": {},
   "outputs": [
    {
     "data": {
      "text/plain": [
       "'BonnieShi@research.uni.ac'"
      ]
     },
     "execution_count": 61,
     "metadata": {},
     "output_type": "execute_result"
    }
   ],
   "source": [
    "student3.get_email()"
   ]
  },
  {
   "cell_type": "code",
   "execution_count": 62,
   "metadata": {},
   "outputs": [
    {
     "data": {
      "text/plain": [
       "'Artificial Intelligence'"
      ]
     },
     "execution_count": 62,
     "metadata": {},
     "output_type": "execute_result"
    }
   ],
   "source": [
    "student3.get_research_area()"
   ]
  },
  {
   "cell_type": "code",
   "execution_count": 63,
   "metadata": {},
   "outputs": [
    {
     "ename": "AttributeError",
     "evalue": "'Student' object has no attribute 'get_research_area'",
     "output_type": "error",
     "traceback": [
      "\u001b[1;31m---------------------------------------------------------------------------\u001b[0m",
      "\u001b[1;31mAttributeError\u001b[0m                            Traceback (most recent call last)",
      "\u001b[1;32m<ipython-input-63-c17c3010f04b>\u001b[0m in \u001b[0;36m<module>\u001b[1;34m\u001b[0m\n\u001b[1;32m----> 1\u001b[1;33m \u001b[0mstudent2\u001b[0m\u001b[1;33m.\u001b[0m\u001b[0mget_research_area\u001b[0m\u001b[1;33m(\u001b[0m\u001b[1;33m)\u001b[0m \u001b[1;31m# this will raise an error\u001b[0m\u001b[1;33m\u001b[0m\u001b[1;33m\u001b[0m\u001b[0m\n\u001b[0m",
      "\u001b[1;31mAttributeError\u001b[0m: 'Student' object has no attribute 'get_research_area'"
     ]
    }
   ],
   "source": [
    "student2.get_research_area() # this will raise an error"
   ]
  },
  {
   "cell_type": "code",
   "execution_count": 65,
   "metadata": {},
   "outputs": [
    {
     "data": {
      "text/plain": [
       "2"
      ]
     },
     "execution_count": 65,
     "metadata": {},
     "output_type": "execute_result"
    }
   ],
   "source": [
    "student3.total_grad_students # specific to the GraduateStudent class"
   ]
  },
  {
   "cell_type": "code",
   "execution_count": 66,
   "metadata": {},
   "outputs": [
    {
     "data": {
      "text/plain": [
       "4"
      ]
     },
     "execution_count": 66,
     "metadata": {},
     "output_type": "execute_result"
    }
   ],
   "source": [
    "student4.total_students # belongs to the superclass Student"
   ]
  },
  {
   "cell_type": "markdown",
   "metadata": {},
   "source": [
    "**Key take-aways**:\n",
    "\n",
    "* Subclasses inherit all attributes and methods from the superclass (except private members).\n",
    "* Subclasses can override inherited methods to provide their own implementation.\n",
    "* Use the `super()` function within the subclass to access the superclass's methods and attributes."
   ]
  },
  {
   "cell_type": "code",
   "execution_count": null,
   "metadata": {},
   "outputs": [],
   "source": []
  },
  {
   "cell_type": "code",
   "execution_count": null,
   "metadata": {},
   "outputs": [],
   "source": []
  },
  {
   "cell_type": "code",
   "execution_count": 1,
   "metadata": {},
   "outputs": [
    {
     "data": {
      "text/html": [
       "<style>.container { width:85% !important; }</style>"
      ],
      "text/plain": [
       "<IPython.core.display.HTML object>"
      ]
     },
     "metadata": {},
     "output_type": "display_data"
    }
   ],
   "source": [
    "# run this cell to change the width of the current notebook\n",
    "# this saves you from scrolling to the side when a code line is too long\n",
    "\n",
    "from IPython.core.display import display, HTML\n",
    "display(HTML(\"<style>.container { width:85% !important; }</style>\"))"
   ]
  },
  {
   "cell_type": "code",
   "execution_count": null,
   "metadata": {},
   "outputs": [],
   "source": []
  }
 ],
 "metadata": {
  "hide_input": false,
  "kernelspec": {
   "display_name": "Python 3",
   "language": "python",
   "name": "python3"
  },
  "language_info": {
   "codemirror_mode": {
    "name": "ipython",
    "version": 3
   },
   "file_extension": ".py",
   "mimetype": "text/x-python",
   "name": "python",
   "nbconvert_exporter": "python",
   "pygments_lexer": "ipython3",
   "version": "3.8.8"
  },
  "latex_envs": {
   "LaTeX_envs_menu_present": true,
   "autoclose": false,
   "autocomplete": true,
   "bibliofile": "biblio.bib",
   "cite_by": "apalike",
   "current_citInitial": 1,
   "eqLabelWithNumbers": true,
   "eqNumInitial": 1,
   "hotkeys": {
    "equation": "Ctrl-E",
    "itemize": "Ctrl-I"
   },
   "labels_anchors": false,
   "latex_user_defs": false,
   "report_style_numbering": false,
   "user_envs_cfg": false
  },
  "toc": {
   "base_numbering": 1,
   "nav_menu": {},
   "number_sections": true,
   "sideBar": true,
   "skip_h1_title": true,
   "title_cell": "Table of Contents",
   "title_sidebar": "Contents",
   "toc_cell": false,
   "toc_position": {
    "height": "calc(100% - 180px)",
    "left": "10px",
    "top": "150px",
    "width": "465.498px"
   },
   "toc_section_display": true,
   "toc_window_display": false
  }
 },
 "nbformat": 4,
 "nbformat_minor": 4
}
