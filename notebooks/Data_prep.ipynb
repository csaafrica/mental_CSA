{
 "cells": [
  {
   "cell_type": "code",
   "execution_count": 83,
   "id": "261ca097-f8f1-4166-a86b-972691bb941d",
   "metadata": {},
   "outputs": [],
   "source": [
    "import pandas as pd\n",
    "import matplotlib.pyplot as plt\n",
    "import seaborn as sns\n",
    "import numpy as np \n",
    "from sklearn.preprocessing import OneHotEncoder\n",
    "from sklearn.preprocessing import StandardScaler\n"
   ]
  },
  {
   "cell_type": "code",
   "execution_count": 51,
   "id": "4c1e0b62-df4f-4426-84ad-6863d64c2811",
   "metadata": {},
   "outputs": [
    {
     "data": {
      "text/html": [
       "<div>\n",
       "<style scoped>\n",
       "    .dataframe tbody tr th:only-of-type {\n",
       "        vertical-align: middle;\n",
       "    }\n",
       "\n",
       "    .dataframe tbody tr th {\n",
       "        vertical-align: top;\n",
       "    }\n",
       "\n",
       "    .dataframe thead th {\n",
       "        text-align: right;\n",
       "    }\n",
       "</style>\n",
       "<table border=\"1\" class=\"dataframe\">\n",
       "  <thead>\n",
       "    <tr style=\"text-align: right;\">\n",
       "      <th></th>\n",
       "      <th>date</th>\n",
       "      <th>real_temperature</th>\n",
       "      <th>feel_temperature</th>\n",
       "      <th>humidity</th>\n",
       "      <th>wind_speed</th>\n",
       "      <th>weather_code</th>\n",
       "      <th>is_holiday</th>\n",
       "      <th>is_weekend</th>\n",
       "      <th>season</th>\n",
       "      <th>count</th>\n",
       "    </tr>\n",
       "  </thead>\n",
       "  <tbody>\n",
       "    <tr>\n",
       "      <th>0</th>\n",
       "      <td>04/01/2015</td>\n",
       "      <td>2.75</td>\n",
       "      <td>0.00</td>\n",
       "      <td>93.00</td>\n",
       "      <td>7.500000</td>\n",
       "      <td>broken_clouds</td>\n",
       "      <td>False</td>\n",
       "      <td>True</td>\n",
       "      <td>winter</td>\n",
       "      <td>9234</td>\n",
       "    </tr>\n",
       "    <tr>\n",
       "      <th>1</th>\n",
       "      <td>05/01/2015</td>\n",
       "      <td>9.00</td>\n",
       "      <td>7.25</td>\n",
       "      <td>81.50</td>\n",
       "      <td>8.854167</td>\n",
       "      <td>broken_clouds</td>\n",
       "      <td>False</td>\n",
       "      <td>False</td>\n",
       "      <td>winter</td>\n",
       "      <td>20372</td>\n",
       "    </tr>\n",
       "    <tr>\n",
       "      <th>2</th>\n",
       "      <td>06/01/2015</td>\n",
       "      <td>8.00</td>\n",
       "      <td>5.75</td>\n",
       "      <td>79.75</td>\n",
       "      <td>16.000000</td>\n",
       "      <td>clear</td>\n",
       "      <td>False</td>\n",
       "      <td>False</td>\n",
       "      <td>winter</td>\n",
       "      <td>20613</td>\n",
       "    </tr>\n",
       "    <tr>\n",
       "      <th>3</th>\n",
       "      <td>07/01/2015</td>\n",
       "      <td>9.00</td>\n",
       "      <td>5.50</td>\n",
       "      <td>81.00</td>\n",
       "      <td>19.760870</td>\n",
       "      <td>scattered_clouds</td>\n",
       "      <td>False</td>\n",
       "      <td>False</td>\n",
       "      <td>winter</td>\n",
       "      <td>21064</td>\n",
       "    </tr>\n",
       "    <tr>\n",
       "      <th>4</th>\n",
       "      <td>08/01/2015</td>\n",
       "      <td>9.00</td>\n",
       "      <td>6.75</td>\n",
       "      <td>79.50</td>\n",
       "      <td>20.479167</td>\n",
       "      <td>rain</td>\n",
       "      <td>False</td>\n",
       "      <td>False</td>\n",
       "      <td>winter</td>\n",
       "      <td>15601</td>\n",
       "    </tr>\n",
       "    <tr>\n",
       "      <th>...</th>\n",
       "      <td>...</td>\n",
       "      <td>...</td>\n",
       "      <td>...</td>\n",
       "      <td>...</td>\n",
       "      <td>...</td>\n",
       "      <td>...</td>\n",
       "      <td>...</td>\n",
       "      <td>...</td>\n",
       "      <td>...</td>\n",
       "      <td>...</td>\n",
       "    </tr>\n",
       "    <tr>\n",
       "      <th>725</th>\n",
       "      <td>30/12/2016</td>\n",
       "      <td>4.00</td>\n",
       "      <td>1.00</td>\n",
       "      <td>100.00</td>\n",
       "      <td>9.000000</td>\n",
       "      <td>cloudy</td>\n",
       "      <td>False</td>\n",
       "      <td>False</td>\n",
       "      <td>winter</td>\n",
       "      <td>11566</td>\n",
       "    </tr>\n",
       "    <tr>\n",
       "      <th>726</th>\n",
       "      <td>31/12/2016</td>\n",
       "      <td>7.50</td>\n",
       "      <td>5.00</td>\n",
       "      <td>90.00</td>\n",
       "      <td>13.312500</td>\n",
       "      <td>cloudy</td>\n",
       "      <td>False</td>\n",
       "      <td>True</td>\n",
       "      <td>winter</td>\n",
       "      <td>11424</td>\n",
       "    </tr>\n",
       "    <tr>\n",
       "      <th>727</th>\n",
       "      <td>01/01/2017</td>\n",
       "      <td>7.00</td>\n",
       "      <td>4.75</td>\n",
       "      <td>90.00</td>\n",
       "      <td>14.125000</td>\n",
       "      <td>rain</td>\n",
       "      <td>False</td>\n",
       "      <td>True</td>\n",
       "      <td>winter</td>\n",
       "      <td>6421</td>\n",
       "    </tr>\n",
       "    <tr>\n",
       "      <th>728</th>\n",
       "      <td>02/01/2017</td>\n",
       "      <td>3.25</td>\n",
       "      <td>0.50</td>\n",
       "      <td>82.50</td>\n",
       "      <td>11.166667</td>\n",
       "      <td>clear</td>\n",
       "      <td>True</td>\n",
       "      <td>False</td>\n",
       "      <td>winter</td>\n",
       "      <td>11823</td>\n",
       "    </tr>\n",
       "    <tr>\n",
       "      <th>729</th>\n",
       "      <td>03/01/2017</td>\n",
       "      <td>4.50</td>\n",
       "      <td>0.50</td>\n",
       "      <td>81.00</td>\n",
       "      <td>18.937500</td>\n",
       "      <td>clear</td>\n",
       "      <td>False</td>\n",
       "      <td>False</td>\n",
       "      <td>winter</td>\n",
       "      <td>19436</td>\n",
       "    </tr>\n",
       "  </tbody>\n",
       "</table>\n",
       "<p>730 rows × 10 columns</p>\n",
       "</div>"
      ],
      "text/plain": [
       "           date  real_temperature  feel_temperature  humidity  wind_speed  \\\n",
       "0    04/01/2015              2.75              0.00     93.00    7.500000   \n",
       "1    05/01/2015              9.00              7.25     81.50    8.854167   \n",
       "2    06/01/2015              8.00              5.75     79.75   16.000000   \n",
       "3    07/01/2015              9.00              5.50     81.00   19.760870   \n",
       "4    08/01/2015              9.00              6.75     79.50   20.479167   \n",
       "..          ...               ...               ...       ...         ...   \n",
       "725  30/12/2016              4.00              1.00    100.00    9.000000   \n",
       "726  31/12/2016              7.50              5.00     90.00   13.312500   \n",
       "727  01/01/2017              7.00              4.75     90.00   14.125000   \n",
       "728  02/01/2017              3.25              0.50     82.50   11.166667   \n",
       "729  03/01/2017              4.50              0.50     81.00   18.937500   \n",
       "\n",
       "         weather_code  is_holiday  is_weekend  season  count  \n",
       "0       broken_clouds       False        True  winter   9234  \n",
       "1       broken_clouds       False       False  winter  20372  \n",
       "2               clear       False       False  winter  20613  \n",
       "3    scattered_clouds       False       False  winter  21064  \n",
       "4                rain       False       False  winter  15601  \n",
       "..                ...         ...         ...     ...    ...  \n",
       "725            cloudy       False       False  winter  11566  \n",
       "726            cloudy       False        True  winter  11424  \n",
       "727              rain       False        True  winter   6421  \n",
       "728             clear        True       False  winter  11823  \n",
       "729             clear       False       False  winter  19436  \n",
       "\n",
       "[730 rows x 10 columns]"
      ]
     },
     "execution_count": 51,
     "metadata": {},
     "output_type": "execute_result"
    }
   ],
   "source": [
    "#load the data\n",
    "bike_data=pd.read_csv(\"../data/bikes.csv\")\n",
    "bike_data"
   ]
  },
  {
   "cell_type": "code",
   "execution_count": 52,
   "id": "b62b8903-ef6b-4951-a996-b95d8fdb619c",
   "metadata": {},
   "outputs": [
    {
     "name": "stdout",
     "output_type": "stream",
     "text": [
      "<class 'pandas.core.frame.DataFrame'>\n",
      "RangeIndex: 730 entries, 0 to 729\n",
      "Data columns (total 10 columns):\n",
      " #   Column            Non-Null Count  Dtype  \n",
      "---  ------            --------------  -----  \n",
      " 0   date              730 non-null    object \n",
      " 1   real_temperature  730 non-null    float64\n",
      " 2   feel_temperature  657 non-null    float64\n",
      " 3   humidity          730 non-null    float64\n",
      " 4   wind_speed        730 non-null    float64\n",
      " 5   weather_code      679 non-null    object \n",
      " 6   is_holiday        730 non-null    bool   \n",
      " 7   is_weekend        730 non-null    bool   \n",
      " 8   season            694 non-null    object \n",
      " 9   count             730 non-null    int64  \n",
      "dtypes: bool(2), float64(4), int64(1), object(3)\n",
      "memory usage: 47.2+ KB\n"
     ]
    }
   ],
   "source": [
    "bike_data.info()"
   ]
  },
  {
   "cell_type": "code",
   "execution_count": 56,
   "id": "a0114ebb-fc32-49d2-88bb-ff551bfb2477",
   "metadata": {},
   "outputs": [
    {
     "data": {
      "text/plain": [
       "date                 0\n",
       "real_temperature     0\n",
       "feel_temperature     0\n",
       "humidity             0\n",
       "wind_speed           0\n",
       "weather_code        51\n",
       "is_holiday           0\n",
       "is_weekend           0\n",
       "season              36\n",
       "count                0\n",
       "dtype: int64"
      ]
     },
     "execution_count": 56,
     "metadata": {},
     "output_type": "execute_result"
    }
   ],
   "source": [
    "# Fill missing values with median of the column\n",
    "#bike_data[\"feel_temperature\"] = bike_data[\"feel_temperature\"].fillna(bike_data[\"feel_temperature\"].median())\n",
    "\n",
    "median_feel_temp = bike_data[\"feel_temperature\"].median()\n",
    "bike_data[\"feel_temperature\"] = bike_data[\"feel_temperature\"].fillna(median_feel_temp)\n",
    "\n",
    "# Check for remaining missing values\n",
    "bike_data.isnull().sum()"
   ]
  },
  {
   "cell_type": "code",
   "execution_count": 57,
   "id": "b8d09294-c462-4e08-8cae-cdef3e152829",
   "metadata": {},
   "outputs": [
    {
     "name": "stdout",
     "output_type": "stream",
     "text": [
      "<class 'pandas.core.frame.DataFrame'>\n",
      "RangeIndex: 730 entries, 0 to 729\n",
      "Data columns (total 10 columns):\n",
      " #   Column            Non-Null Count  Dtype  \n",
      "---  ------            --------------  -----  \n",
      " 0   date              730 non-null    object \n",
      " 1   real_temperature  730 non-null    float64\n",
      " 2   feel_temperature  730 non-null    float64\n",
      " 3   humidity          730 non-null    float64\n",
      " 4   wind_speed        730 non-null    float64\n",
      " 5   weather_code      679 non-null    object \n",
      " 6   is_holiday        730 non-null    bool   \n",
      " 7   is_weekend        730 non-null    bool   \n",
      " 8   season            694 non-null    object \n",
      " 9   count             730 non-null    int64  \n",
      "dtypes: bool(2), float64(4), int64(1), object(3)\n",
      "memory usage: 47.2+ KB\n"
     ]
    }
   ],
   "source": [
    "bike_data.info()"
   ]
  },
  {
   "cell_type": "code",
   "execution_count": 58,
   "id": "97e23461-b365-4c17-ab4b-c54d4b2c0396",
   "metadata": {},
   "outputs": [
    {
     "name": "stdout",
     "output_type": "stream",
     "text": [
      "<class 'pandas.core.frame.DataFrame'>\n",
      "RangeIndex: 730 entries, 0 to 729\n",
      "Data columns (total 10 columns):\n",
      " #   Column            Non-Null Count  Dtype  \n",
      "---  ------            --------------  -----  \n",
      " 0   date              730 non-null    object \n",
      " 1   real_temperature  730 non-null    float64\n",
      " 2   feel_temperature  730 non-null    float64\n",
      " 3   humidity          730 non-null    float64\n",
      " 4   wind_speed        730 non-null    float64\n",
      " 5   weather_code      679 non-null    object \n",
      " 6   is_holiday        730 non-null    bool   \n",
      " 7   is_weekend        730 non-null    bool   \n",
      " 8   season            730 non-null    object \n",
      " 9   count             730 non-null    int64  \n",
      "dtypes: bool(2), float64(4), int64(1), object(3)\n",
      "memory usage: 47.2+ KB\n"
     ]
    },
    {
     "name": "stderr",
     "output_type": "stream",
     "text": [
      "C:\\Users\\MICROSPACE\\AppData\\Local\\Temp\\ipykernel_7220\\2849707553.py:2: FutureWarning: Series.interpolate with method=pad is deprecated and will raise in a future version. Use obj.ffill() or obj.bfill() instead.\n",
      "  bike_data['season'] =bike_data['season'].interpolate(method='pad')\n"
     ]
    }
   ],
   "source": [
    "# Filling missing values in season column by interpolation by padding\n",
    "bike_data['season'] =bike_data['season'].interpolate(method='pad')\n",
    "bike_data.info()\n",
    "\n"
   ]
  },
  {
   "cell_type": "code",
   "execution_count": 60,
   "id": "08a0b33e-6268-4a4a-8a8d-fca03d9fdceb",
   "metadata": {},
   "outputs": [],
   "source": [
    "#filling missing values in the weather column\n",
    "\n",
    "mode_weather_code = bike_data[\"weather_code\"].mode()\n",
    "bike_data[\"weather_code\"]= bike_data[\"weather_code\"].fillna(bike_data[\"weather_code\"].mode()[0])\n"
   ]
  },
  {
   "cell_type": "code",
   "execution_count": 61,
   "id": "13851a50-b7d7-448a-b571-01f541075d00",
   "metadata": {},
   "outputs": [
    {
     "name": "stdout",
     "output_type": "stream",
     "text": [
      "date                0\n",
      "real_temperature    0\n",
      "feel_temperature    0\n",
      "humidity            0\n",
      "wind_speed          0\n",
      "weather_code        0\n",
      "is_holiday          0\n",
      "is_weekend          0\n",
      "season              0\n",
      "count               0\n",
      "dtype: int64\n"
     ]
    }
   ],
   "source": [
    "print(bike_data.isnull().sum())"
   ]
  },
  {
   "cell_type": "code",
   "execution_count": 63,
   "id": "00980684-373e-48a7-aec0-37710258d895",
   "metadata": {},
   "outputs": [
    {
     "name": "stdout",
     "output_type": "stream",
     "text": [
      "<class 'pandas.core.frame.DataFrame'>\n",
      "RangeIndex: 730 entries, 0 to 729\n",
      "Data columns (total 10 columns):\n",
      " #   Column            Non-Null Count  Dtype  \n",
      "---  ------            --------------  -----  \n",
      " 0   date              730 non-null    object \n",
      " 1   real_temperature  730 non-null    float64\n",
      " 2   feel_temperature  730 non-null    float64\n",
      " 3   humidity          730 non-null    float64\n",
      " 4   wind_speed        730 non-null    float64\n",
      " 5   weather_code      730 non-null    object \n",
      " 6   is_holiday        730 non-null    bool   \n",
      " 7   is_weekend        730 non-null    bool   \n",
      " 8   season            730 non-null    object \n",
      " 9   count             730 non-null    int64  \n",
      "dtypes: bool(2), float64(4), int64(1), object(3)\n",
      "memory usage: 47.2+ KB\n"
     ]
    }
   ],
   "source": [
    "bike_data.info()"
   ]
  },
  {
   "cell_type": "markdown",
   "id": "5f493ac7-71d9-4ced-8612-f7478712a75e",
   "metadata": {},
   "source": [
    "### One-hot encoding for season column"
   ]
  },
  {
   "cell_type": "code",
   "execution_count": 69,
   "id": "e16f4d8c-9270-4890-ab1a-e4d82dc4d6e5",
   "metadata": {},
   "outputs": [],
   "source": [
    "\n",
    "\n",
    "# Fetch season data as a new df\n",
    "season_data = pd.DataFrame(bike_data['season'], columns=['season'])\n",
    "\n",
    "# Create a one hot encoder object\n",
    "one_hot_encode = OneHotEncoder() \n",
    "# One hot encoding for season column\n",
    "ohe_array = one_hot_encode.fit_transform(season_data[['season']]).toarray()\n",
    "\n",
    "# Get column names\n",
    "col_names = one_hot_encode.get_feature_names_out(['season'])\n",
    "\n",
    "# Convert the array into a dataframe\n",
    "ohe = pd.DataFrame(data = ohe_array, columns =col_names)\n",
    "season_data = pd.concat([season_data, ohe],axis=1)"
   ]
  },
  {
   "cell_type": "code",
   "execution_count": 70,
   "id": "cdbc1d75-c40c-4ec3-9fe6-5de54fbcbeca",
   "metadata": {},
   "outputs": [
    {
     "data": {
      "text/html": [
       "<div>\n",
       "<style scoped>\n",
       "    .dataframe tbody tr th:only-of-type {\n",
       "        vertical-align: middle;\n",
       "    }\n",
       "\n",
       "    .dataframe tbody tr th {\n",
       "        vertical-align: top;\n",
       "    }\n",
       "\n",
       "    .dataframe thead th {\n",
       "        text-align: right;\n",
       "    }\n",
       "</style>\n",
       "<table border=\"1\" class=\"dataframe\">\n",
       "  <thead>\n",
       "    <tr style=\"text-align: right;\">\n",
       "      <th></th>\n",
       "      <th>season</th>\n",
       "      <th>season_autumm</th>\n",
       "      <th>season_spring</th>\n",
       "      <th>season_summer</th>\n",
       "      <th>season_winter</th>\n",
       "    </tr>\n",
       "  </thead>\n",
       "  <tbody>\n",
       "    <tr>\n",
       "      <th>0</th>\n",
       "      <td>winter</td>\n",
       "      <td>0.0</td>\n",
       "      <td>0.0</td>\n",
       "      <td>0.0</td>\n",
       "      <td>1.0</td>\n",
       "    </tr>\n",
       "    <tr>\n",
       "      <th>1</th>\n",
       "      <td>winter</td>\n",
       "      <td>0.0</td>\n",
       "      <td>0.0</td>\n",
       "      <td>0.0</td>\n",
       "      <td>1.0</td>\n",
       "    </tr>\n",
       "    <tr>\n",
       "      <th>2</th>\n",
       "      <td>winter</td>\n",
       "      <td>0.0</td>\n",
       "      <td>0.0</td>\n",
       "      <td>0.0</td>\n",
       "      <td>1.0</td>\n",
       "    </tr>\n",
       "    <tr>\n",
       "      <th>3</th>\n",
       "      <td>winter</td>\n",
       "      <td>0.0</td>\n",
       "      <td>0.0</td>\n",
       "      <td>0.0</td>\n",
       "      <td>1.0</td>\n",
       "    </tr>\n",
       "    <tr>\n",
       "      <th>4</th>\n",
       "      <td>winter</td>\n",
       "      <td>0.0</td>\n",
       "      <td>0.0</td>\n",
       "      <td>0.0</td>\n",
       "      <td>1.0</td>\n",
       "    </tr>\n",
       "    <tr>\n",
       "      <th>...</th>\n",
       "      <td>...</td>\n",
       "      <td>...</td>\n",
       "      <td>...</td>\n",
       "      <td>...</td>\n",
       "      <td>...</td>\n",
       "    </tr>\n",
       "    <tr>\n",
       "      <th>725</th>\n",
       "      <td>winter</td>\n",
       "      <td>0.0</td>\n",
       "      <td>0.0</td>\n",
       "      <td>0.0</td>\n",
       "      <td>1.0</td>\n",
       "    </tr>\n",
       "    <tr>\n",
       "      <th>726</th>\n",
       "      <td>winter</td>\n",
       "      <td>0.0</td>\n",
       "      <td>0.0</td>\n",
       "      <td>0.0</td>\n",
       "      <td>1.0</td>\n",
       "    </tr>\n",
       "    <tr>\n",
       "      <th>727</th>\n",
       "      <td>winter</td>\n",
       "      <td>0.0</td>\n",
       "      <td>0.0</td>\n",
       "      <td>0.0</td>\n",
       "      <td>1.0</td>\n",
       "    </tr>\n",
       "    <tr>\n",
       "      <th>728</th>\n",
       "      <td>winter</td>\n",
       "      <td>0.0</td>\n",
       "      <td>0.0</td>\n",
       "      <td>0.0</td>\n",
       "      <td>1.0</td>\n",
       "    </tr>\n",
       "    <tr>\n",
       "      <th>729</th>\n",
       "      <td>winter</td>\n",
       "      <td>0.0</td>\n",
       "      <td>0.0</td>\n",
       "      <td>0.0</td>\n",
       "      <td>1.0</td>\n",
       "    </tr>\n",
       "  </tbody>\n",
       "</table>\n",
       "<p>730 rows × 5 columns</p>\n",
       "</div>"
      ],
      "text/plain": [
       "     season  season_autumm  season_spring  season_summer  season_winter\n",
       "0    winter            0.0            0.0            0.0            1.0\n",
       "1    winter            0.0            0.0            0.0            1.0\n",
       "2    winter            0.0            0.0            0.0            1.0\n",
       "3    winter            0.0            0.0            0.0            1.0\n",
       "4    winter            0.0            0.0            0.0            1.0\n",
       "..      ...            ...            ...            ...            ...\n",
       "725  winter            0.0            0.0            0.0            1.0\n",
       "726  winter            0.0            0.0            0.0            1.0\n",
       "727  winter            0.0            0.0            0.0            1.0\n",
       "728  winter            0.0            0.0            0.0            1.0\n",
       "729  winter            0.0            0.0            0.0            1.0\n",
       "\n",
       "[730 rows x 5 columns]"
      ]
     },
     "execution_count": 70,
     "metadata": {},
     "output_type": "execute_result"
    }
   ],
   "source": [
    "season_data"
   ]
  },
  {
   "cell_type": "code",
   "execution_count": 74,
   "id": "3ed51dfa-30f6-4a3c-b69a-2a388cc8c121",
   "metadata": {},
   "outputs": [
    {
     "data": {
      "text/plain": [
       "list"
      ]
     },
     "execution_count": 74,
     "metadata": {},
     "output_type": "execute_result"
    }
   ],
   "source": [
    "x=pd.DataFrame([1,2,3,4], columns=['s'])\n",
    "y=[x['s']]\n",
    "type(y)"
   ]
  },
  {
   "cell_type": "code",
   "execution_count": 75,
   "id": "46968870-9c54-4084-93d5-23ad1503b0c6",
   "metadata": {},
   "outputs": [
    {
     "name": "stdout",
     "output_type": "stream",
     "text": [
      "<class 'pandas.core.frame.DataFrame'>\n",
      "RangeIndex: 730 entries, 0 to 729\n",
      "Data columns (total 5 columns):\n",
      " #   Column         Non-Null Count  Dtype  \n",
      "---  ------         --------------  -----  \n",
      " 0   season         730 non-null    object \n",
      " 1   season_autumm  730 non-null    float64\n",
      " 2   season_spring  730 non-null    float64\n",
      " 3   season_summer  730 non-null    float64\n",
      " 4   season_winter  730 non-null    float64\n",
      "dtypes: float64(4), object(1)\n",
      "memory usage: 28.6+ KB\n"
     ]
    }
   ],
   "source": [
    "season_data.info()"
   ]
  },
  {
   "cell_type": "code",
   "execution_count": 92,
   "id": "53ee846b-72d2-4b50-a20c-54bc888481e1",
   "metadata": {},
   "outputs": [
    {
     "data": {
      "image/png": "[encoded data removed]",
      "text/plain": [
       "<Figure size 640x480 with 1 Axes>"
      ]
     },
     "metadata": {},
     "output_type": "display_data"
    }
   ],
   "source": [
    "#Create a density plot to visualize distribution of real_temp\n",
    "ax=bike_data['real_temperature'].plot.density(title=\"Distribution of real_temperature\",label=\"real_temperature\")\n",
    "\n",
    "#Get the column mean\n",
    "mean_real_temp=bike_data[\"real_temperature\"].mean()\n",
    "\n",
    "#Plot the column mean\n",
    "plt.axvline (x=mean_real_temp,color=\"r\",linestyle=\"--\",label=\"mean\")\n",
    "ax.legend(loc=\"lower right\");"
   ]
  },
  {
   "cell_type": "code",
   "execution_count": 79,
   "id": "415abf55-8871-43c2-97fe-4a6a9fe8b6f7",
   "metadata": {},
   "outputs": [
    {
     "data": {
      "image/png": "[encoded data removed]",
      "text/plain": [
       "<Figure size 640x480 with 1 Axes>"
      ]
     },
     "metadata": {},
     "output_type": "display_data"
    }
   ],
   "source": [
    "ax=bike_data['real_temperature'].plot.hist(title=\"Distribution of real_temperature\",label=\"real_temperature\")"
   ]
  },
  {
   "cell_type": "markdown",
   "id": "fe000f60-f149-4fef-a671-388806213db8",
   "metadata": {},
   "source": [
    "## DATA STANDARDISATION"
   ]
  },
  {
   "cell_type": "code",
   "execution_count": 90,
   "id": "b19b2528-ad29-4096-b9b6-fa135201d70e",
   "metadata": {},
   "outputs": [],
   "source": [
    "# Create a standard scaler object\n",
    "std_scaler = StandardScaler()\n",
    "\n",
    "#Standardise the real temperature column\n",
    "bike_data[\"scaled_real_temp\"] = std_scaler.fit_transform (X = bike_data[[\"real_temperature\"]])"
   ]
  },
  {
   "cell_type": "code",
   "execution_count": 91,
   "id": "6a6f4902-803e-4f47-a5b4-653b1cbbbe8e",
   "metadata": {},
   "outputs": [
    {
     "data": {
      "text/html": [
       "<div>\n",
       "<style scoped>\n",
       "    .dataframe tbody tr th:only-of-type {\n",
       "        vertical-align: middle;\n",
       "    }\n",
       "\n",
       "    .dataframe tbody tr th {\n",
       "        vertical-align: top;\n",
       "    }\n",
       "\n",
       "    .dataframe thead th {\n",
       "        text-align: right;\n",
       "    }\n",
       "</style>\n",
       "<table border=\"1\" class=\"dataframe\">\n",
       "  <thead>\n",
       "    <tr style=\"text-align: right;\">\n",
       "      <th></th>\n",
       "      <th>real_temperature</th>\n",
       "      <th>scaled_real_temp</th>\n",
       "    </tr>\n",
       "  </thead>\n",
       "  <tbody>\n",
       "    <tr>\n",
       "      <th>0</th>\n",
       "      <td>2.75</td>\n",
       "      <td>-1.914593</td>\n",
       "    </tr>\n",
       "    <tr>\n",
       "      <th>1</th>\n",
       "      <td>9.00</td>\n",
       "      <td>-0.685001</td>\n",
       "    </tr>\n",
       "    <tr>\n",
       "      <th>2</th>\n",
       "      <td>8.00</td>\n",
       "      <td>-0.881736</td>\n",
       "    </tr>\n",
       "    <tr>\n",
       "      <th>3</th>\n",
       "      <td>9.00</td>\n",
       "      <td>-0.685001</td>\n",
       "    </tr>\n",
       "    <tr>\n",
       "      <th>4</th>\n",
       "      <td>9.00</td>\n",
       "      <td>-0.685001</td>\n",
       "    </tr>\n",
       "    <tr>\n",
       "      <th>...</th>\n",
       "      <td>...</td>\n",
       "      <td>...</td>\n",
       "    </tr>\n",
       "    <tr>\n",
       "      <th>725</th>\n",
       "      <td>4.00</td>\n",
       "      <td>-1.668675</td>\n",
       "    </tr>\n",
       "    <tr>\n",
       "      <th>726</th>\n",
       "      <td>7.50</td>\n",
       "      <td>-0.980103</td>\n",
       "    </tr>\n",
       "    <tr>\n",
       "      <th>727</th>\n",
       "      <td>7.00</td>\n",
       "      <td>-1.078470</td>\n",
       "    </tr>\n",
       "    <tr>\n",
       "      <th>728</th>\n",
       "      <td>3.25</td>\n",
       "      <td>-1.816226</td>\n",
       "    </tr>\n",
       "    <tr>\n",
       "      <th>729</th>\n",
       "      <td>4.50</td>\n",
       "      <td>-1.570307</td>\n",
       "    </tr>\n",
       "  </tbody>\n",
       "</table>\n",
       "<p>730 rows × 2 columns</p>\n",
       "</div>"
      ],
      "text/plain": [
       "     real_temperature  scaled_real_temp\n",
       "0                2.75         -1.914593\n",
       "1                9.00         -0.685001\n",
       "2                8.00         -0.881736\n",
       "3                9.00         -0.685001\n",
       "4                9.00         -0.685001\n",
       "..                ...               ...\n",
       "725              4.00         -1.668675\n",
       "726              7.50         -0.980103\n",
       "727              7.00         -1.078470\n",
       "728              3.25         -1.816226\n",
       "729              4.50         -1.570307\n",
       "\n",
       "[730 rows x 2 columns]"
      ]
     },
     "execution_count": 91,
     "metadata": {},
     "output_type": "execute_result"
    }
   ],
   "source": [
    "bike_data[[\"real_temperature\" , \"scaled_real_temp\"]]"
   ]
  },
  {
   "cell_type": "code",
   "execution_count": null,
   "id": "ea10e439-b8e1-4616-ab0f-838c612db4e0",
   "metadata": {},
   "outputs": [],
   "source": [
    "#Create a figure object for\n"
   ]
  },
  {
   "cell_type": "code",
   "execution_count": null,
   "id": "c956124f-8f30-44a4-8293-6e918f5dae82",
   "metadata": {},
   "outputs": [],
   "source": []
  }
 ],
 "metadata": {
  "kernelspec": {
   "display_name": "Python 3 (ipykernel)",
   "language": "python",
   "name": "python3"
  },
  "language_info": {
   "codemirror_mode": {
    "name": "ipython",
    "version": 3
   },
   "file_extension": ".py",
   "mimetype": "text/x-python",
   "name": "python",
   "nbconvert_exporter": "python",
   "pygments_lexer": "ipython3",
   "version": "3.10.18"
  }
 },
 "nbformat": 4,
 "nbformat_minor": 5
}
