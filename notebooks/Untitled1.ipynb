{
 "cells": [
  {
   "cell_type": "code",
   "execution_count": 5,
   "id": "488e78fe-850e-45e7-8361-ea20f610f47d",
   "metadata": {},
   "outputs": [
    {
     "name": "stdout",
     "output_type": "stream",
     "text": [
      "No Code - No Title\n",
      "No Code - No Title\n",
      "No Code - No Title\n",
      "No Code - No Title\n",
      "No Code - No Title\n",
      "No Code - No Title\n",
      "No Code - No Title\n",
      "No Code - No Title\n",
      "No Code - No Title\n",
      "No Code - No Title\n"
     ]
    }
   ],
   "source": [
    "### LOAD WHO DATASET\n",
    "import requests\n",
    "\n",
    "# Get list of indicators\n",
    "response = requests.get(\"https://ghoapi.azureedge.net/api/MH_12\")\n",
    "data = response.json()\n",
    "\n",
    "# Display a few indicators\n",
    "#for item in data['value'][:10]:\n",
    "#print(item['Code'], \"-\", item['Title'])\n",
    "\n",
    "for item in data['value'][:10]:\n",
    "    print(item.get('Code', 'No Code'), \"-\", item.get('Title', 'No Title'))\n",
    "\n"
   ]
  },
  {
   "cell_type": "code",
   "execution_count": 6,
   "id": "7ce51c8a-9a0b-4e34-91a6-2a254b546998",
   "metadata": {},
   "outputs": [
    {
     "name": "stdout",
     "output_type": "stream",
     "text": [
      "{\n",
      "    \"Id\": 5471153,\n",
      "    \"IndicatorCode\": \"MH_12\",\n",
      "    \"SpatialDimType\": \"COUNTRY\",\n",
      "    \"SpatialDim\": \"ISR\",\n",
      "    \"ParentLocationCode\": \"EUR\",\n",
      "    \"TimeDimType\": \"YEAR\",\n",
      "    \"ParentLocation\": \"Europe\",\n",
      "    \"Dim1Type\": \"SEX\",\n",
      "    \"Dim1\": \"SEX_FMLE\",\n",
      "    \"TimeDim\": 2011,\n",
      "    \"Dim2Type\": null,\n",
      "    \"Dim2\": null,\n",
      "    \"Dim3Type\": null,\n",
      "    \"Dim3\": null,\n",
      "    \"DataSourceDimType\": null,\n",
      "    \"DataSourceDim\": null,\n",
      "    \"Value\": \"2.3 [2.0-2.6]\",\n",
      "    \"NumericValue\": 2.289511141,\n",
      "    \"Low\": 1.954689311,\n",
      "    \"High\": 2.644826789,\n",
      "    \"Comments\": null,\n",
      "    \"Date\": \"2025-01-28T14:13:24.673+01:00\",\n",
      "    \"TimeDimensionValue\": \"2011\",\n",
      "    \"TimeDimensionBegin\": \"2011-01-01T00:00:00+01:00\",\n",
      "    \"TimeDimensionEnd\": \"2011-12-31T00:00:00+01:00\"\n",
      "}\n"
     ]
    }
   ],
   "source": [
    "import json\n",
    "\n",
    "# Print the full structure of the first item\n",
    "print(json.dumps(data['value'][0], indent=4))\n"
   ]
  },
  {
   "cell_type": "code",
   "execution_count": 7,
   "id": "d920e45c-4c47-43f4-916e-d4baccc8de8e",
   "metadata": {},
   "outputs": [
    {
     "name": "stdout",
     "output_type": "stream",
     "text": [
      "ISR - 2011 - 2.3 [2.0-2.6]\n",
      "LTU - 2012 - 52.3 [48.9-58.9]\n",
      "JOR - 2010 - 1.7 [1.1-2.1]\n",
      "SSD - 2020 - 5.9 [3.4-9.4]\n",
      "SYR - 2001 - 1.8 [1.3-2.4]\n",
      "ZWE - 2021 - 25.4 [13.6-40.8]\n",
      "TUN - 2011 - 1.6 [0.8-2.9]\n",
      "BRB - 2007 - 1.0 [0.8-1.2]\n",
      "TKM - 2001 - 4.5 [3.9-5.1]\n",
      "CHL - 2010 - 4.3 [3.8-4.7]\n"
     ]
    }
   ],
   "source": [
    "# Suicide rate indicator (MH_12)\n",
    "url = \"https://ghoapi.azureedge.net/api/MH_12\"\n",
    "response = requests.get(url)\n",
    "suicide_data = response.json()\n",
    "\n",
    "# Print country and value\n",
    "for entry in suicide_data['value'][:10]:\n",
    "    print(f\"{entry['SpatialDim']} - {entry['TimeDim']} - {entry['Value']}\")\n"
   ]
  },
  {
   "cell_type": "code",
   "execution_count": null,
   "id": "68f64415-4de9-475a-9242-fb27a91779b0",
   "metadata": {},
   "outputs": [],
   "source": []
  }
 ],
 "metadata": {
  "kernelspec": {
   "display_name": "Python 3 (ipykernel)",
   "language": "python",
   "name": "python3"
  },
  "language_info": {
   "codemirror_mode": {
    "name": "ipython",
    "version": 3
   },
   "file_extension": ".py",
   "mimetype": "text/x-python",
   "name": "python",
   "nbconvert_exporter": "python",
   "pygments_lexer": "ipython3",
   "version": "3.10.18"
  }
 },
 "nbformat": 4,
 "nbformat_minor": 5
}
