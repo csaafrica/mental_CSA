{
 "cells": [
  {
   "cell_type": "markdown",
   "metadata": {},
   "source": [
    "# Lab 8\n",
    "<br>\n",
    "\n",
    "# Object-Oriented Programming (OOP II)\n",
    "---\n",
    "\n",
    "##### CS1P. Semester 2. Python 3.x\n",
    " ---"
   ]
  },
  {
   "cell_type": "markdown",
   "metadata": {},
   "source": [
    "## Purpose of this lab\n",
    "\n",
    "This lab will exercise your skills in:\n",
    "* creating classes\n",
    "* operator overloading\n",
    "* creating class inheritance\n",
    "* restaurant management\n",
    "* flying drone (badly)"
   ]
  },
  {
   "cell_type": "code",
   "execution_count": 3,
   "metadata": {},
   "outputs": [],
   "source": [
    "from utils.tick import tick"
   ]
  },
  {
   "cell_type": "markdown",
   "metadata": {},
   "source": [
    "# A. "
   ]
  },
  {
   "cell_type": "markdown",
   "metadata": {},
   "source": [
    "## A.1 Matrix manipulation\n",
    "\n",
    "Implement a Python class called `Matrix` to represent a 2D matrix. The class should support the addition and multiplication of two matrices. The matrix addition and multiplication operations should follow standard mathematical rules.\n",
    "\n",
    "The `Matrix` class should take one argument `elements` in the `__init__` method, where `elements` is a 2D list representing the elements of the matrix. In addition, the class should have the following methods:\n",
    "\n",
    "1. `__add__(self, other)` : to overload the addition operator `(+)` for matrix addition.\n",
    "2. `__mul__(self, other)` : to overload the multiplication operator `(*)` for matrix multiplication.\n",
    "3. `__eq__(self, other)`: to overload the equality operator `(==)` for comparing elements of two `Matrix` instances. This method should return `True` if the two instances have the same elements, and `False` otherwise. \n",
    "3. `__repr__(self)`: to return the string representation in the format of a list of lists, matching the input format.\n",
    "\n",
    "**Constraints**\n",
    "* Matrices are guaranteed to be non-empty.\n",
    "* Matrices will only contain integer values.\n",
    "* Matrices for multiplication will be compatible, i.e., the number of columns in the first matrix will be equal to the number of rows in the second matrix."
   ]
  },
  {
   "cell_type": "code",
   "execution_count": 4,
   "metadata": {},
   "outputs": [],
   "source": []
  },
  {
   "cell_type": "code",
   "execution_count": 5,
   "metadata": {},
   "outputs": [
    {
     "data": {
      "text/html": [
       " <h3> <font color=\"green\"> ✓ Correct </font> </h3>"
      ],
      "text/plain": [
       "<IPython.core.display.HTML object>"
      ]
     },
     "metadata": {},
     "output_type": "display_data"
    }
   ],
   "source": [
    "# Test cases\n",
    "\n",
    "m1 = Matrix([[1, 2], [3, 4]])\n",
    "m2 = Matrix([[5, 6], [7, 8]])\n",
    "m3 = Matrix([[2, 0], [1, 3]])\n",
    "m4 = Matrix([[1, 0, 0], [0, 1, 0], [0, 0, 1]]) # identity matrix\n",
    "m5 = Matrix([[10, 20, 30], [40, 50 , 60], [70, 80, 90]])\n",
    "m6 = Matrix([[1, 1, 0], [-1, 0, 1], [0, -1, 1]])\n",
    "m7 = Matrix([[1, 2, 0], [3, 4, 0], [0, 0, 1]])\n",
    "m8 = Matrix([[4, -2, 0], [-3, 1, 0], [0, 0, 1]])\n",
    "\n",
    "with tick():\n",
    "    assert m1 + m2 == Matrix([[6, 8], [10, 12]])\n",
    "    assert m1 * m2 == Matrix([[19, 22], [43, 50]])\n",
    "    assert m1 * m3 == Matrix([[4, 6], [10, 12]])\n",
    "    assert m1 != Matrix([[5, 6], [7, 8]])\n",
    "    assert m2 == Matrix([[5, 6], [7, 8]])\n",
    "    assert m1 + m3 != [[3, 2], [4, 7]]\n",
    "    assert m4 * m5 == m5\n",
    "    assert m4 * m6 == Matrix([[1, 1, 0], [-1, 0, 1], [0, -1, 1]])\n",
    "    assert m7 + m8 == Matrix([[5, 0, 0], [0, 5, 0], [0, 0, 2]])"
   ]
  },
  {
   "cell_type": "markdown",
   "metadata": {},
   "source": [
    "## A2. Geometry Shapes \n",
    "\n",
    "Create a base class `Shape` with attributes `name` and `colour` representing the name and colour of the shape respectively. Next, implement three methods as follows:\n",
    "* `get_area`: an abstract method that raises `NotImplementedError(\"Area calculation not implemented for base shape\")`\n",
    "* `get_perimeter`: an abstract method that raises `NotImplementedError(\"Perimeter calculation not implemented for base shape\")`\n",
    "* `get_info`: a method that return a string containing the shape's name, colour, area (calculated using `self.get_area()`), and perimeter (calculated using `self.get_perimeter()`)\n",
    "\n",
    "Create three classes `Rectangle`, `Circle`, and `Triangle` that inherit from the `Shape` superclass as follows:\n",
    "\n",
    "1. `Square`: \n",
    "    * Initialise `length` as an additional parameter. \n",
    "    * Override `get_area()` to return the square's area (i.e., length ** 2).\n",
    "    * Override `get_perimeter()` to return the square's perimeter (i.e., 4 * length).\n",
    "    \n",
    "2. `Rectangle`: \n",
    "    * Initialise `width` and `height` as additional parameters. \n",
    "    * Override `get_area()` to return the rectangle's area (i.e., width * height).\n",
    "    * Override `get_perimeter()` to return the rectangle's perimeter (i.e., 2 * (width + height)).\n",
    "\n",
    "3. `Circle`: \n",
    "    * Initialise `radius` as a parameter and set `pi = 3.14` as a class variable.\n",
    "    * Override `get_area()` to return the circle's area (i.e., `pi` * radius**2).\n",
    "    * Override `get_perimeter()` to return the circle's perimeter (i.e., 2 * `pi` * radius).\n",
    "\n",
    "\n"
   ]
  },
  {
   "cell_type": "code",
   "execution_count": 24,
   "metadata": {},
   "outputs": [],
   "source": []
  },
  {
   "cell_type": "code",
   "execution_count": 25,
   "metadata": {},
   "outputs": [
    {
     "data": {
      "text/html": [
       " <h3> <font color=\"green\"> ✓ Correct </font> </h3>"
      ],
      "text/plain": [
       "<IPython.core.display.HTML object>"
      ]
     },
     "metadata": {},
     "output_type": "display_data"
    }
   ],
   "source": [
    "with tick():\n",
    "    rect_1 = Rectangle(\"Rectangle 1\", \"Blue\", 5, 10)\n",
    "    cir_1 = Circle(\"Circle 1\", \"Red\", 3)\n",
    "    cir_2 = Circle(\"Circle 2\", \"Magenta\", 8)\n",
    "    squ_1 = Square(\"Square 1\", \"Green\", 7)\n",
    "    assert hasattr(rect_1, 'get_info')\n",
    "    assert rect_1.get_area() == 50\n",
    "    assert rect_1.get_perimeter() == 30\n",
    "    assert cir_1.get_area() == 28.26\n",
    "    assert cir_2.pi == 3.14\n",
    "    assert cir_1.get_perimeter() == 18.84\n",
    "    assert hasattr(cir_1, 'colour') and cir_1.colour == \"Red\"\n",
    "    assert hasattr(cir_2, 'name') and cir_2.name == \"Circle 2\"\n",
    "    assert cir_2.get_area() == 200.96\n",
    "    assert cir_2.get_perimeter() == 50.24\n",
    "    assert squ_1.get_area() == 49\n",
    "    assert squ_1.get_perimeter() == 28\n",
    "    \n",
    "    "
   ]
  },
  {
   "cell_type": "code",
   "execution_count": 26,
   "metadata": {},
   "outputs": [
    {
     "data": {
      "text/html": [
       " <h3> <font color=\"green\"> ✓ Correct </font> </h3>"
      ],
      "text/plain": [
       "<IPython.core.display.HTML object>"
      ]
     },
     "metadata": {},
     "output_type": "display_data"
    }
   ],
   "source": [
    "# more test cases\n",
    "with tick():\n",
    "    try:\n",
    "        s1 = Shape(\"Shape1\", \"Yellow\")\n",
    "        s1.get_area()\n",
    "        s1.get_perimeter()\n",
    "    except NotImplementedError:\n",
    "        assert True\n",
    "    else:\n",
    "        assert False, \"Did not raise NotImplementedError for area and perimeter in basic shape\""
   ]
  },
  {
   "cell_type": "markdown",
   "metadata": {},
   "source": [
    "## A.3 Fraction\n",
    "\n",
    "Define a class `Fraction` that takes two arguments (numerator and denominator) in `__init__`. Define the following methods:\n",
    "\n",
    "* `as_float(self)` returns the fraction as a floating point number (by dividing the numerator by the denominator)\n",
    "* `as_string(self)` returns the fraction as a string, like \"9/8\"\n",
    "* `multiply(self, fraction)` that multiplies the given fraction by *another* instance of `Fraction` (note the rule for multiplying fractions is `a/b * c/d = a*c / b*d`) and returns a new instance of `Fraction`.\n",
    "\n"
   ]
  },
  {
   "cell_type": "code",
   "execution_count": 16,
   "metadata": {},
   "outputs": [],
   "source": []
  },
  {
   "cell_type": "code",
   "execution_count": 17,
   "metadata": {},
   "outputs": [
    {
     "data": {
      "text/html": [
       " <h3> <font color=\"green\"> ✓ Correct </font> </h3>"
      ],
      "text/plain": [
       "<IPython.core.display.HTML object>"
      ]
     },
     "metadata": {},
     "output_type": "display_data"
    }
   ],
   "source": [
    "## Tests\n",
    "with tick():\n",
    "    half = Fraction(1,2)\n",
    "    two_third = Fraction(2, 3)\n",
    "    three_eight = Fraction(3, 8)\n",
    "    assert half.as_float()==0.5\n",
    "    assert three_eight.as_float()==3.0/8.0    \n",
    "    assert two_third.as_string()==\"2/3\"\n",
    "    assert half.as_string()==\"1/2\"\n",
    "    prod = half.multiply(two_third)\n",
    "    assert prod.as_float() == (1/2) * (2/3)    \n",
    "    assert prod.as_string() ==  \"2/6\"\n",
    "    assert half.as_string()==\"1/2\"\n",
    "            "
   ]
  },
  {
   "cell_type": "markdown",
   "metadata": {},
   "source": [
    "## A.4 Fraction special methods\n",
    "Modify `Fraction` defined above:\n",
    "\n",
    "* modify `multiply` so that if the \"other\" value passed is an instance of  `Fraction`, you multiply as before; if it is an instance of `int` then you multiply the numerator by that integer; and otherwise you raise a `TypeError`.\n",
    "\n",
    "And add two new methods:\n",
    "\n",
    "* `__str__(self)`, which just calls `self.as_string` and returns the result;\n",
    "* `__mul__(self, other)`, which just calls `self.multiply` and returns the result\n",
    "\n",
    "Verify that you can now:\n",
    "\n",
    "(a) print out any instance of `Fraction` and see the string value directly;\n",
    "\n",
    "(b) write products of fractions using the ordinary `*` operator. For example, `print(Fraction(2,3) * Fraction(1,2))` should print `2/6`.\n"
   ]
  },
  {
   "cell_type": "code",
   "execution_count": 18,
   "metadata": {},
   "outputs": [],
   "source": []
  },
  {
   "cell_type": "code",
   "execution_count": 19,
   "metadata": {},
   "outputs": [
    {
     "name": "stdout",
     "output_type": "stream",
     "text": [
      "1/2\n",
      "1/4\n",
      "4/2\n"
     ]
    },
    {
     "data": {
      "text/html": [
       " <h3> <font color=\"green\"> ✓ Correct </font> </h3>"
      ],
      "text/plain": [
       "<IPython.core.display.HTML object>"
      ]
     },
     "metadata": {},
     "output_type": "display_data"
    }
   ],
   "source": [
    "## Tests\n",
    "with tick():\n",
    "    half = Fraction(1,2)\n",
    "    print(half)\n",
    "    print(half * half)\n",
    "    print(half * 4)\n",
    "    assert str(half)==\"1/2\"    \n",
    "    two_third = Fraction(2, 3)\n",
    "    assert str(two_third)==\"2/3\"\n",
    "    prod = half * two_third\n",
    "    assert prod.as_string()==\"2/6\"\n",
    "    assert half.multiply(2).as_string() == \"2/2\"\n",
    "    assert (half * 2).as_string() == \"2/2\"\n",
    "    try: \n",
    "        half * 2.0\n",
    "    except TypeError:\n",
    "        assert True\n",
    "    else:\n",
    "        assert False, \"Didn't fail when multiplying by a float\""
   ]
  },
  {
   "cell_type": "markdown",
   "metadata": {},
   "source": []
  },
  {
   "cell_type": "code",
   "execution_count": null,
   "metadata": {},
   "outputs": [],
   "source": []
  },
  {
   "cell_type": "markdown",
   "metadata": {},
   "source": [
    "---\n",
    "\n",
    "<br>\n",
    "\n",
    "# B"
   ]
  },
  {
   "cell_type": "markdown",
   "metadata": {},
   "source": [
    "## B1. Restaurant Management\n",
    "\n",
    "You have been asked to write a Python program to help a restaurant manage their menu and employees, where the employees could have different status: _Manager_, _Waiter_, and _Chef_."
   ]
  },
  {
   "cell_type": "markdown",
   "metadata": {},
   "source": [
    "### a) Menu Class\n",
    "Create a `Menu` class that allows adding new dishes, retrieving their prices, and displaying the entire menu. The class should initialize an empty dictionary in the `__init__` method to store dish names and their corresponding prices. In addition, the class should also have the following functionalities:\n",
    "1.  `add_dish`: a method that adds a new dish to the menu along with its price; if the dish already exists in the menu, update its price.\n",
    "2. `get_price`: a method that retrieves the price of a dish; if the dish is not found, return `0`.\n",
    "3. `display_menu`: a method that prints the entire menu with dish names and prices in a readable format.\n",
    "\n",
    "Handle case sensitive dish names appropriately."
   ]
  },
  {
   "cell_type": "code",
   "execution_count": 27,
   "metadata": {},
   "outputs": [],
   "source": []
  },
  {
   "cell_type": "code",
   "execution_count": 28,
   "metadata": {},
   "outputs": [
    {
     "data": {
      "text/html": [
       " <h3> <font color=\"green\"> ✓ Correct </font> </h3>"
      ],
      "text/plain": [
       "<IPython.core.display.HTML object>"
      ]
     },
     "metadata": {},
     "output_type": "display_data"
    },
    {
     "name": "stdout",
     "output_type": "stream",
     "text": [
      "Menu:\n",
      "- Pizza: £13.5\n",
      "- Pasta: £10.5\n",
      "- Salad: £7.99\n",
      "- Burger: £8.99\n",
      "- Sushi: £15.99\n",
      "- Steak: £22.99\n",
      "- Ice Cream: £4.5\n",
      "- Coffee: £3.99\n",
      "- Fish Tacos: £11.25\n",
      "- Chicken Alfredo: £13.75\n"
     ]
    }
   ],
   "source": [
    "# Test cases\n",
    "\n",
    "menu = Menu()\n",
    "\n",
    "# Add various dishes to the menu with their prices\n",
    "menu.add_dish(\"Pizza\", 12.99)\n",
    "menu.add_dish(\"Pasta\", 10.50)\n",
    "menu.add_dish(\"Salad\", 7.99)\n",
    "menu.add_dish(\"Burger\", 8.99)\n",
    "menu.add_dish(\"Sushi\", 15.99)\n",
    "menu.add_dish(\"Steak\", 22.99)\n",
    "menu.add_dish(\"Ice Cream\", 4.50)\n",
    "menu.add_dish(\"Coffee\", 3.99)\n",
    "menu.add_dish(\"Fish Tacos\", 11.25)\n",
    "menu.add_dish(\"Chicken Alfredo\", 13.75)\n",
    "menu.add_dish(\"Pizza\", 13.50)  # Update pizza price\n",
    "with tick():\n",
    "    assert menu.get_price(\"Shawarma\") == 0\n",
    "    assert menu.get_price(\"Pizza\") == 13.50\n",
    "    assert menu.get_price(\"STEAK\") == 22.99\n",
    "    assert menu.get_price(\"ice cream\") == 4.50\n",
    "    assert len(menu.dishes) == 10\n",
    "\n",
    "# Display the menu to verify the additions and update\n",
    "menu.display_menu()"
   ]
  },
  {
   "cell_type": "markdown",
   "metadata": {},
   "source": [
    "### b) Employee Class\n",
    "\n",
    "Create a base class Employee that will serve as the superclass for all types of employees. This class should include common attributes like `name`, `age`, `salary`, and `department`. Additionally, implement a method called `get_salary` that returns the salary of the employee."
   ]
  },
  {
   "cell_type": "code",
   "execution_count": 29,
   "metadata": {},
   "outputs": [],
   "source": []
  },
  {
   "cell_type": "code",
   "execution_count": 30,
   "metadata": {},
   "outputs": [
    {
     "data": {
      "text/html": [
       " <h3> <font color=\"green\"> ✓ Correct </font> </h3>"
      ],
      "text/plain": [
       "<IPython.core.display.HTML object>"
      ]
     },
     "metadata": {},
     "output_type": "display_data"
    }
   ],
   "source": [
    "## Tests\n",
    "with tick():\n",
    "    e1 = Employee(\"Frank\", 31, 40_000, \"Marketing\")\n",
    "    e2 = Employee(\"Robert\", 29, 25_000, \"Media\")\n",
    "    assert hasattr(e1, \"name\") and e1.name==\"Frank\"\n",
    "    assert hasattr(e2, \"age\") and e2.age==29\n",
    "    assert hasattr(e2, \"department\") and e2.department==\"Media\"\n",
    "    assert e1.get_salary() == 40_000"
   ]
  },
  {
   "cell_type": "markdown",
   "metadata": {},
   "source": [
    "### c) Manager Class\n",
    "\n",
    "Inherit from the `Employee` class to create the `Manager` class. Add a specific attribute `bonus` for managers. In addition, override the `get_salary` method from the superclass such that it returns the manager's total salary including their bonus."
   ]
  },
  {
   "cell_type": "code",
   "execution_count": 31,
   "metadata": {},
   "outputs": [],
   "source": []
  },
  {
   "cell_type": "code",
   "execution_count": 32,
   "metadata": {},
   "outputs": [
    {
     "data": {
      "text/html": [
       " <h3> <font color=\"green\"> ✓ Correct </font> </h3>"
      ],
      "text/plain": [
       "<IPython.core.display.HTML object>"
      ]
     },
     "metadata": {},
     "output_type": "display_data"
    }
   ],
   "source": [
    "# Test cases\n",
    "\n",
    "## Tests\n",
    "with tick():\n",
    "    m1 = Manager(\"Peter\", 35, 40_000, \"Management\", 500)\n",
    "    m2 = Manager(\"Maria\", 43, 63_000, \"Management\", 1000)\n",
    "    assert hasattr(m1, \"bonus\") and m1.bonus == 500\n",
    "    assert hasattr(m2, \"age\") and m2.age == 43\n",
    "    assert hasattr(m1, \"salary\") and m1.salary == 40_000\n",
    "    assert m2.get_salary() == 64_000\n",
    "    assert m1.get_salary() == 40_500"
   ]
  },
  {
   "cell_type": "markdown",
   "metadata": {},
   "source": [
    "### d) Waiter Class\n",
    "\n",
    "Similarly, inherit from the `Employee` class to create the `Waiter` class. Initialise three new attributes for waiters:\n",
    "1. `tip_total`: this should be initialised to `0`; however, for each order that the waiter takes, they get a `10%` tip.\n",
    "2. `tables`: a list of tables assigned to the waiter.\n",
    "3. `menu`: an instance of the `Menu` class representing the restaurant's menu.\n",
    "\n",
    "Implement a method `take_order` that takes a list of dishes and returns the total price of an order based on prices from the `menu` object. This total price should include the waiter's `10%` tip. Also, override the `get_salary` method from the superclass such that it returns the waiter's salary including their tip total."
   ]
  },
  {
   "cell_type": "code",
   "execution_count": 33,
   "metadata": {},
   "outputs": [],
   "source": []
  },
  {
   "cell_type": "code",
   "execution_count": 36,
   "metadata": {},
   "outputs": [
    {
     "data": {
      "text/html": [
       " <h3> <font color=\"green\"> ✓ Correct </font> </h3>"
      ],
      "text/plain": [
       "<IPython.core.display.HTML object>"
      ]
     },
     "metadata": {},
     "output_type": "display_data"
    }
   ],
   "source": [
    "# Test cases\n",
    "\n",
    "with tick():\n",
    "    w1 = Waiter(\"Tom\", 25, 20_000, \"Service\", 0, [1, 2, 3, 5], menu)\n",
    "    w2 = Waiter(\"Mary\", 17, 13_000, \"Service\", 0, [5, 6], menu)\n",
    "    w3 = Waiter(\"Paul\", 27, 31_000, \"Service\", 0, [1, 2, 3, 4, 6], menu)\n",
    "    # verify attributes are intialised correctly\n",
    "    assert hasattr(w1, \"name\") and w1.name == \"Tom\"\n",
    "    assert hasattr(w2, \"tip_total\") and w2.tip_total == 0\n",
    "    assert hasattr(w3, \"salary\") and w3.salary == 31_000\n",
    "    assert hasattr(w1, \"department\") and w1.tables == [1, 2, 3, 5]\n",
    "    # verify methods are working according to specification\n",
    "    assert w1.take_order([\"Pizza\", \"Pasta\", \"Ice Cream\"]) == 31.35\n",
    "    assert w1.tip_total == 2.85\n",
    "    assert w3.take_order([\"Pizza\", \"Pasta\", \"Fish Tacos\", \"Chicken Alfredos\", \"Ice Cream\"]) == 43.725\n",
    "    assert w3.take_order([\"Pasta\", \"Fish tacos\", \"Sushi\", \"Steak\", \"Steak\", \"Sushi\"]) == 109.681\n",
    "    assert w2.take_order([\"Pasta\", \"Fish Tacos\", \"Sushi\", \"Pizza\", \"Steak\"]) == 81.653\n",
    "    assert w3.tip_total == 13.946\n",
    "    assert w3.get_salary() == 31013.946\n",
    "    assert w1.take_order([\"Salad\", \"Burger\", \"SUSHI\", \"Coffee\"]) == 40.656\n",
    "    assert w1.get_salary() == 20_006.546\n",
    "    \n",
    "    "
   ]
  },
  {
   "cell_type": "markdown",
   "metadata": {},
   "source": [
    "### d) Chef Class\n",
    "\n",
    "Inherit from the `Employee` class to create the `Chef` class, which includes an additional attribute `specialty`. Implement a method `cook` that takes a dish name and returns the following string \"Chef Guido is preparing Pizza...\", where _Guido_ is the `name` of the `Chef` and _Pizza_ is the dish they are preparing."
   ]
  },
  {
   "cell_type": "code",
   "execution_count": 37,
   "metadata": {},
   "outputs": [],
   "source": []
  },
  {
   "cell_type": "code",
   "execution_count": 38,
   "metadata": {},
   "outputs": [
    {
     "data": {
      "text/html": [
       " <h3> <font color=\"green\"> ✓ Correct </font> </h3>"
      ],
      "text/plain": [
       "<IPython.core.display.HTML object>"
      ]
     },
     "metadata": {},
     "output_type": "display_data"
    }
   ],
   "source": [
    "# Test cases\n",
    "with tick():\n",
    "    c1 = Chef(\"Alice\", 35, 60_000, \"Kitchen\", \"Italian\")\n",
    "    c2 = Chef(\"Shrey\", 51, 43_000, \"Kitchen\", \"Indian\")\n",
    "    # verify attributes are intialised correctly\n",
    "    assert hasattr(c1, \"name\") and c1.name == \"Alice\"\n",
    "    assert hasattr(c1, \"specialty\") and c1.specialty == \"Italian\"\n",
    "    assert hasattr(c2, \"salary\") and c2.salary == 43_000\n",
    "    assert c1.cook(\"Pasta\") == 'Chef Alice is preparing Pasta...'\n",
    "    assert c2.cook(\"Masala\") == 'Chef Shrey is preparing Masala...'"
   ]
  },
  {
   "cell_type": "code",
   "execution_count": null,
   "metadata": {},
   "outputs": [],
   "source": []
  },
  {
   "cell_type": "markdown",
   "metadata": {},
   "source": [
    "# B2. Flying drones\n",
    "We are going to use object-orientation to do some simple drone flying; or at least creating paths for drones to follow.\n",
    "\n",
    "<img src=\"imgs/drone.jpg\" width=\"50%\">"
   ]
  },
  {
   "cell_type": "markdown",
   "metadata": {},
   "source": [
    "## (a) Vec3\n",
    "\n",
    "We need a way to represent a drone in space. For the moment, we'll ignore the orientation of the drone. A point in space can be referenced with three coordinates $x,y,z$. Obviously, we could use a list, tuple or NumPy array to represent a point. But it can be useful to define a type that represents a fixed length vector with three *components* and can do the kind of operations we want to be able to do directly.\n",
    "\n",
    "Define a new class `Vec3` that has the following methods. Note: we will not mutate `Vec3` after creation, so all methods return *new instances*. There are a few methods to implement, but all of them are very simple.\n",
    "\n",
    "* `__init__(self, x, y, z)`\n",
    "* `as_list(self)` returns the Vec3 as a list `[x,y,z]`\n",
    "* `__add__(self, other)` add two Vec3 together by adding their components, returning a new `Vec3`\n",
    "* `__mul__(self, scale)` multiply each component of Vec3 by the given number `scale` (`scale` is a number, **not** a `Vec3`!). This method returns a new `Vec3`.\n",
    "* `__truediv__(self, scale)` divide each component of Vec3 by the given number `scale` (`scale` is a number, **not** a `Vec3`!)\n",
    "* `length(self)`  returns $\\sqrt{x^2+y^2+z^2}$\n",
    "* `direction(self)` multiply each component of Vec3 by `1/length(self)` (`length(self)` is an instance method!). This method returns a new `Vec3`.\n",
    "* `__matmul__(self, other)` returns the dot product of two vectors, that is a number $(x_1*x_2) + (y_1*y_2) + (z_1*z_2)$\n",
    "* `__sub__(self, other)` subtract the components of two Vec3, returning a new `Vec3`\n",
    "* `distance(self, other)` returns `length(self-other)`, the distance between two vectors\n",
    "* `__str__(self)` returns the vector as a string like `<1.0 0.5 0.1>`\n",
    "* `__eq__(self, other)` returns True if the `distance` between `self` and `other` is less than `1e-6` (we won't use exact equality for numerical reasons). Also, use the `distance` method you implemented for the `Vec3` class.\n"
   ]
  },
  {
   "cell_type": "code",
   "execution_count": 39,
   "metadata": {},
   "outputs": [],
   "source": []
  },
  {
   "cell_type": "code",
   "execution_count": 40,
   "metadata": {},
   "outputs": [
    {
     "name": "stdout",
     "output_type": "stream",
     "text": [
      "<1.0 2.0 3.0> <1.0 0.0 1.0> <1.0 0.0 0.0>\n",
      "<2.0 4.0 6.0>\n",
      "<11.0 2.0 2.0>\n",
      "1.0\n"
     ]
    },
    {
     "data": {
      "text/html": [
       " <h3> <font color=\"green\"> ✓ Correct </font> </h3>"
      ],
      "text/plain": [
       "<IPython.core.display.HTML object>"
      ]
     },
     "metadata": {},
     "output_type": "display_data"
    },
    {
     "data": {
      "text/html": [
       " <h3> <font color=\"green\"> ✓ Correct </font> </h3>"
      ],
      "text/plain": [
       "<IPython.core.display.HTML object>"
      ]
     },
     "metadata": {},
     "output_type": "display_data"
    },
    {
     "data": {
      "text/html": [
       " <h3> <font color=\"green\"> ✓ Correct </font> </h3>"
      ],
      "text/plain": [
       "<IPython.core.display.HTML object>"
      ]
     },
     "metadata": {},
     "output_type": "display_data"
    },
    {
     "data": {
      "text/html": [
       " <h3> <font color=\"green\"> ✓ Correct </font> </h3>"
      ],
      "text/plain": [
       "<IPython.core.display.HTML object>"
      ]
     },
     "metadata": {},
     "output_type": "display_data"
    },
    {
     "data": {
      "text/html": [
       " <h3> <font color=\"green\"> ✓ Correct </font> </h3>"
      ],
      "text/plain": [
       "<IPython.core.display.HTML object>"
      ]
     },
     "metadata": {},
     "output_type": "display_data"
    },
    {
     "data": {
      "text/html": [
       " <h3> <font color=\"green\"> ✓ Correct </font> </h3>"
      ],
      "text/plain": [
       "<IPython.core.display.HTML object>"
      ]
     },
     "metadata": {},
     "output_type": "display_data"
    }
   ],
   "source": [
    "## Tests\n",
    "v1 = Vec3(1, 2, 3)\n",
    "v2 = Vec3(1.0, 0.0, 1.0)\n",
    "v3 = Vec3(1.0, 0.0, 0.0)\n",
    "v4 = Vec3(10.0, 0.0, 0.0)\n",
    "v5 = Vec3(0.0, 0.0, 1.0)\n",
    "\n",
    "print(v1, v2, v3)\n",
    "print(v1 * 2)\n",
    "print(v1 + v2 - v3 + v4 - v5 * 2)\n",
    "print(v3.length())\n",
    "\n",
    "with tick():\n",
    "    assert v3 * 10 == v4\n",
    "    assert v4 / 10 == v3\n",
    "with tick():\n",
    "    assert v1 - v2 == Vec3(0, 2, 2)\n",
    "    assert v1 + v2 == Vec3(2, 2, 4)\n",
    "    assert v3 + v5 == Vec3(1, 0, 1)\n",
    "with tick():\n",
    "    assert v3.length() == v5.length()\n",
    "    assert v1.length() == 14**0.5\n",
    "    assert v3.length() == 1.0\n",
    "with tick():\n",
    "    assert v3.distance(v5) == 2.0**0.5\n",
    "    assert v4.direction() == v3\n",
    "    assert v5.direction() == v5\n",
    "# @ calls __matmuL__\n",
    "with tick():\n",
    "    assert v3 @ v3 == 1.0\n",
    "    assert v3 @ v5 == 0.0\n",
    "with tick():\n",
    "    assert v3.as_list() == [1.0, 0.0, 0.0]\n",
    "    assert (v3*2).as_list() == [2.0, 0.0, 0.0]\n",
    "\n",
    "#assert v3 @ v3 == 1.0"
   ]
  },
  {
   "cell_type": "markdown",
   "metadata": {},
   "source": [
    "## (b) Path\n",
    "Now we need to represent a path along which we intend to send the drone. Again, this is something we can represent as an object, with a specific set of methods we can use to operate upon it.\n",
    "\n",
    "A path is a sequence of points in space, each with a time. To do this, we need to be able to specify the points in space (as `Vec3`s) we want to reach at each time point, and be able to get the point the drone is supposed to be at for *any* possible time. We'll store this as a sequence of `(time, point)` pairs, where `time` is a floating point number.\n",
    "\n",
    "To do this, we'll assume that the drone is expected to move in a perfectly straight line between two given points, and use the simple *linear interpolation formula* to compute the position of a drone. \n",
    "\n",
    "Create a class `Path` that has the following methods. These define the API (application programmer's interface) that we can use to manipulate `Path`s.\n",
    "\n",
    "* `__init__` which initialises an empty path\n",
    "* `add(self, pt, t)` adds as a tuple/list, a new point `pt` (a `Vec3`) to be reached at time `t` (a floating point number). \n",
    "* `get(self, t)` return the position the drone should be at time `t`. To find the this point:\n",
    "    * If there are no points in the path, raise a `ValueError` \n",
    "    * If there is just one point, return it\n",
    "    * if `t` is smaller than any time in the path, return the point with smallest `t`\n",
    "    * if `t` is greater than any time in the path, return the point with largest `t`\n",
    "    * otherwise:\n",
    "        * find the first time in the list greater than `t`, `t2` and the corresponding point in space `p2`\n",
    "        * find the immediately previous point (in the sense of time) in the list `p1` and its time `t1`\n",
    "        * compute the position `p` of the drone at time `t` using the formula:\n",
    "            * `a = (t - t1) / (t2 - t1)`\n",
    "            * `p = p1 * (1-a)  + p2* a`\n",
    "* `t_range(self)`, which returns the minimum and maximum value of `t` in the sequence, as a tuple. \n",
    "    \n",
    "* Note: you can (but definitely don't have to) store the list of times and points in sorted order, and use binary search to find the times. This is more efficient than the simple approach but more complicated to get right.\n",
    "    "
   ]
  },
  {
   "cell_type": "code",
   "execution_count": 41,
   "metadata": {},
   "outputs": [],
   "source": []
  },
  {
   "cell_type": "code",
   "execution_count": 42,
   "metadata": {},
   "outputs": [
    {
     "data": {
      "text/html": [
       " <h3> <font color=\"green\"> ✓ Correct </font> </h3>"
      ],
      "text/plain": [
       "<IPython.core.display.HTML object>"
      ]
     },
     "metadata": {},
     "output_type": "display_data"
    },
    {
     "data": {
      "text/html": [
       " <h3> <font color=\"green\"> ✓ Correct </font> </h3>"
      ],
      "text/plain": [
       "<IPython.core.display.HTML object>"
      ]
     },
     "metadata": {},
     "output_type": "display_data"
    },
    {
     "data": {
      "text/html": [
       " <h3> <font color=\"green\"> ✓ Correct </font> </h3>"
      ],
      "text/plain": [
       "<IPython.core.display.HTML object>"
      ]
     },
     "metadata": {},
     "output_type": "display_data"
    },
    {
     "data": {
      "text/html": [
       " <h3> <font color=\"green\"> ✓ Correct </font> </h3>"
      ],
      "text/plain": [
       "<IPython.core.display.HTML object>"
      ]
     },
     "metadata": {},
     "output_type": "display_data"
    },
    {
     "data": {
      "text/html": [
       " <h3> <font color=\"green\"> ✓ Correct </font> </h3>"
      ],
      "text/plain": [
       "<IPython.core.display.HTML object>"
      ]
     },
     "metadata": {},
     "output_type": "display_data"
    },
    {
     "data": {
      "text/html": [
       " <h3> <font color=\"green\"> ✓ Correct </font> </h3>"
      ],
      "text/plain": [
       "<IPython.core.display.HTML object>"
      ]
     },
     "metadata": {},
     "output_type": "display_data"
    }
   ],
   "source": [
    "## Tests\n",
    "p = Path()\n",
    "p.add(Vec3(0,0,0), 0.0)\n",
    "with tick():\n",
    "    try:\n",
    "        p.get(0)\n",
    "    except ValueError:\n",
    "        assert True\n",
    "p.add(Vec3(1,0,0), 1.0)\n",
    "with tick():\n",
    "    assert p.t_range() == (0.0, 1.0)\n",
    "with tick():\n",
    "    assert p.get(0.0) == Vec3(0,0,0)\n",
    "    assert p.get(1.0) == Vec3(1,0,0)\n",
    "p.add(Vec3(1,0,1), 2.0)    \n",
    "with tick():\n",
    "    assert p.get(2.0) == Vec3(1,0,1)\n",
    "    \n",
    "    assert p.get(0.5) == Vec3(0.5, 0, 0)\n",
    "    assert p.get(0.25) == Vec3(0.25, 0, 0)\n",
    "    assert p.get(1.5) == Vec3(1, 0, 0.5)\n",
    "    assert p.t_range() == (0.0, 2.0)\n",
    "    \n",
    "with tick():    \n",
    "    p.add(Vec3(0,1,0), 0.5)\n",
    "    assert p.get(0.5) == Vec3(0,1,0)\n",
    "    assert p.get(0.25) == Vec3(0,0.5,0)\n",
    "    assert p.get(0.75) == Vec3(0.5,0.5,0)\n",
    "    \n",
    "p.add(Vec3(1,0,1), -2.0)    \n",
    "with tick():\n",
    "    assert p.t_range() == (-2.0, 2.0)\n",
    "    assert p.get(-2)==Vec3(1,0,1)"
   ]
  },
  {
   "cell_type": "markdown",
   "metadata": {},
   "source": [
    "## Displaying a path\n",
    "The drone simulator knows how to work with `Path` objects, so we can now do our first test. However, the drone currently lacks a controller, so it will be unable to fly. We'll see the path, though.\n",
    "\n"
   ]
  },
  {
   "cell_type": "code",
   "execution_count": 43,
   "metadata": {},
   "outputs": [],
   "source": [
    "drone_path = Path()\n",
    "# on ground\n",
    "drone_path.add(Vec3(0,0,0), 0)\n",
    "# up\n",
    "drone_path.add(Vec3(0,0,2), 1)\n",
    "# forward, up\n",
    "drone_path.add(Vec3(5,0,5), 5)\n",
    "# left\n",
    "drone_path.add(Vec3(5,7,7), 10)\n",
    "# backward\n",
    "drone_path.add(Vec3(-5,7,7), 15)\n",
    "# right\n",
    "drone_path.add(Vec3(-5,-7,5), 20)\n",
    "# forward\n",
    "drone_path.add(Vec3(5,-7,5), 25)\n",
    "# left\n",
    "drone_path.add(Vec3(5,0,5), 30)\n",
    "# home\n",
    "drone_path.add(Vec3(0,0,0), 35)"
   ]
  },
  {
   "cell_type": "markdown",
   "metadata": {},
   "source": [
    "We can now see the path generated."
   ]
  },
  {
   "cell_type": "code",
   "execution_count": 46,
   "metadata": {},
   "outputs": [
    {
     "data": {
      "application/javascript": [
       "/* Put everything inside the global mpl namespace */\n",
       "/* global mpl */\n",
       "window.mpl = {};\n",
       "\n",
       "mpl.get_websocket_type = function () {\n",
       "    if (typeof WebSocket !== 'undefined') {\n",
       "        return WebSocket;\n",
       "    } else if (typeof MozWebSocket !== 'undefined') {\n",
       "        return MozWebSocket;\n",
       "    } else {\n",
       "        alert(\n",
       "            'Your browser does not have WebSocket support. ' +\n",
       "                'Please try Chrome, Safari or Firefox ≥ 6. ' +\n",
       "                'Firefox 4 and 5 are also supported but you ' +\n",
       "                'have to enable WebSockets in about:config.'\n",
       "        );\n",
       "    }\n",
       "};\n",
       "\n",
       "mpl.figure = function (figure_id, websocket, ondownload, parent_element) {\n",
       "    this.id = figure_id;\n",
       "\n",
       "    this.ws = websocket;\n",
       "\n",
       "    this.supports_binary = this.ws.binaryType !== undefined;\n",
       "\n",
       "    if (!this.supports_binary) {\n",
       "        var warnings = document.getElementById('mpl-warnings');\n",
       "        if (warnings) {\n",
       "            warnings.style.display = 'block';\n",
       "            warnings.textContent =\n",
       "                'This browser does not support binary websocket messages. ' +\n",
       "                'Performance may be slow.';\n",
       "        }\n",
       "    }\n",
       "\n",
       "    this.imageObj = new Image();\n",
       "\n",
       "    this.context = undefined;\n",
       "    this.message = undefined;\n",
       "    this.canvas = undefined;\n",
       "    this.rubberband_canvas = undefined;\n",
       "    this.rubberband_context = undefined;\n",
       "    this.format_dropdown = undefined;\n",
       "\n",
       "    this.image_mode = 'full';\n",
       "\n",
       "    this.root = document.createElement('div');\n",
       "    this.root.setAttribute('style', 'display: inline-block');\n",
       "    this._root_extra_style(this.root);\n",
       "\n",
       "    parent_element.appendChild(this.root);\n",
       "\n",
       "    this._init_header(this);\n",
       "    this._init_canvas(this);\n",
       "    this._init_toolbar(this);\n",
       "\n",
       "    var fig = this;\n",
       "\n",
       "    this.waiting = false;\n",
       "\n",
       "    this.ws.onopen = function () {\n",
       "        fig.send_message('supports_binary', { value: fig.supports_binary });\n",
       "        fig.send_message('send_image_mode', {});\n",
       "        if (fig.ratio !== 1) {\n",
       "            fig.send_message('set_dpi_ratio', { dpi_ratio: fig.ratio });\n",
       "        }\n",
       "        fig.send_message('refresh', {});\n",
       "    };\n",
       "\n",
       "    this.imageObj.onload = function () {\n",
       "        if (fig.image_mode === 'full') {\n",
       "            // Full images could contain transparency (where diff images\n",
       "            // almost always do), so we need to clear the canvas so that\n",
       "            // there is no ghosting.\n",
       "            fig.context.clearRect(0, 0, fig.canvas.width, fig.canvas.height);\n",
       "        }\n",
       "        fig.context.drawImage(fig.imageObj, 0, 0);\n",
       "    };\n",
       "\n",
       "    this.imageObj.onunload = function () {\n",
       "        fig.ws.close();\n",
       "    };\n",
       "\n",
       "    this.ws.onmessage = this._make_on_message_function(this);\n",
       "\n",
       "    this.ondownload = ondownload;\n",
       "};\n",
       "\n",
       "mpl.figure.prototype._init_header = function () {\n",
       "    var titlebar = document.createElement('div');\n",
       "    titlebar.classList =\n",
       "        'ui-dialog-titlebar ui-widget-header ui-corner-all ui-helper-clearfix';\n",
       "    var titletext = document.createElement('div');\n",
       "    titletext.classList = 'ui-dialog-title';\n",
       "    titletext.setAttribute(\n",
       "        'style',\n",
       "        'width: 100%; text-align: center; padding: 3px;'\n",
       "    );\n",
       "    titlebar.appendChild(titletext);\n",
       "    this.root.appendChild(titlebar);\n",
       "    this.header = titletext;\n",
       "};\n",
       "\n",
       "mpl.figure.prototype._canvas_extra_style = function (_canvas_div) {};\n",
       "\n",
       "mpl.figure.prototype._root_extra_style = function (_canvas_div) {};\n",
       "\n",
       "mpl.figure.prototype._init_canvas = function () {\n",
       "    var fig = this;\n",
       "\n",
       "    var canvas_div = (this.canvas_div = document.createElement('div'));\n",
       "    canvas_div.setAttribute(\n",
       "        'style',\n",
       "        'border: 1px solid #ddd;' +\n",
       "            'box-sizing: content-box;' +\n",
       "            'clear: both;' +\n",
       "            'min-height: 1px;' +\n",
       "            'min-width: 1px;' +\n",
       "            'outline: 0;' +\n",
       "            'overflow: hidden;' +\n",
       "            'position: relative;' +\n",
       "            'resize: both;'\n",
       "    );\n",
       "\n",
       "    function on_keyboard_event_closure(name) {\n",
       "        return function (event) {\n",
       "            return fig.key_event(event, name);\n",
       "        };\n",
       "    }\n",
       "\n",
       "    canvas_div.addEventListener(\n",
       "        'keydown',\n",
       "        on_keyboard_event_closure('key_press')\n",
       "    );\n",
       "    canvas_div.addEventListener(\n",
       "        'keyup',\n",
       "        on_keyboard_event_closure('key_release')\n",
       "    );\n",
       "\n",
       "    this._canvas_extra_style(canvas_div);\n",
       "    this.root.appendChild(canvas_div);\n",
       "\n",
       "    var canvas = (this.canvas = document.createElement('canvas'));\n",
       "    canvas.classList.add('mpl-canvas');\n",
       "    canvas.setAttribute('style', 'box-sizing: content-box;');\n",
       "\n",
       "    this.context = canvas.getContext('2d');\n",
       "\n",
       "    var backingStore =\n",
       "        this.context.backingStorePixelRatio ||\n",
       "        this.context.webkitBackingStorePixelRatio ||\n",
       "        this.context.mozBackingStorePixelRatio ||\n",
       "        this.context.msBackingStorePixelRatio ||\n",
       "        this.context.oBackingStorePixelRatio ||\n",
       "        this.context.backingStorePixelRatio ||\n",
       "        1;\n",
       "\n",
       "    this.ratio = (window.devicePixelRatio || 1) / backingStore;\n",
       "\n",
       "    var rubberband_canvas = (this.rubberband_canvas = document.createElement(\n",
       "        'canvas'\n",
       "    ));\n",
       "    rubberband_canvas.setAttribute(\n",
       "        'style',\n",
       "        'box-sizing: content-box; position: absolute; left: 0; top: 0; z-index: 1;'\n",
       "    );\n",
       "\n",
       "    // Apply a ponyfill if ResizeObserver is not implemented by browser.\n",
       "    if (this.ResizeObserver === undefined) {\n",
       "        if (window.ResizeObserver !== undefined) {\n",
       "            this.ResizeObserver = window.ResizeObserver;\n",
       "        } else {\n",
       "            var obs = _JSXTOOLS_RESIZE_OBSERVER({});\n",
       "            this.ResizeObserver = obs.ResizeObserver;\n",
       "        }\n",
       "    }\n",
       "\n",
       "    this.resizeObserverInstance = new this.ResizeObserver(function (entries) {\n",
       "        var nentries = entries.length;\n",
       "        for (var i = 0; i < nentries; i++) {\n",
       "            var entry = entries[i];\n",
       "            var width, height;\n",
       "            if (entry.contentBoxSize) {\n",
       "                if (entry.contentBoxSize instanceof Array) {\n",
       "                    // Chrome 84 implements new version of spec.\n",
       "                    width = entry.contentBoxSize[0].inlineSize;\n",
       "                    height = entry.contentBoxSize[0].blockSize;\n",
       "                } else {\n",
       "                    // Firefox implements old version of spec.\n",
       "                    width = entry.contentBoxSize.inlineSize;\n",
       "                    height = entry.contentBoxSize.blockSize;\n",
       "                }\n",
       "            } else {\n",
       "                // Chrome <84 implements even older version of spec.\n",
       "                width = entry.contentRect.width;\n",
       "                height = entry.contentRect.height;\n",
       "            }\n",
       "\n",
       "            // Keep the size of the canvas and rubber band canvas in sync with\n",
       "            // the canvas container.\n",
       "            if (entry.devicePixelContentBoxSize) {\n",
       "                // Chrome 84 implements new version of spec.\n",
       "                canvas.setAttribute(\n",
       "                    'width',\n",
       "                    entry.devicePixelContentBoxSize[0].inlineSize\n",
       "                );\n",
       "                canvas.setAttribute(\n",
       "                    'height',\n",
       "                    entry.devicePixelContentBoxSize[0].blockSize\n",
       "                );\n",
       "            } else {\n",
       "                canvas.setAttribute('width', width * fig.ratio);\n",
       "                canvas.setAttribute('height', height * fig.ratio);\n",
       "            }\n",
       "            canvas.setAttribute(\n",
       "                'style',\n",
       "                'width: ' + width + 'px; height: ' + height + 'px;'\n",
       "            );\n",
       "\n",
       "            rubberband_canvas.setAttribute('width', width);\n",
       "            rubberband_canvas.setAttribute('height', height);\n",
       "\n",
       "            // And update the size in Python. We ignore the initial 0/0 size\n",
       "            // that occurs as the element is placed into the DOM, which should\n",
       "            // otherwise not happen due to the minimum size styling.\n",
       "            if (fig.ws.readyState == 1 && width != 0 && height != 0) {\n",
       "                fig.request_resize(width, height);\n",
       "            }\n",
       "        }\n",
       "    });\n",
       "    this.resizeObserverInstance.observe(canvas_div);\n",
       "\n",
       "    function on_mouse_event_closure(name) {\n",
       "        return function (event) {\n",
       "            return fig.mouse_event(event, name);\n",
       "        };\n",
       "    }\n",
       "\n",
       "    rubberband_canvas.addEventListener(\n",
       "        'mousedown',\n",
       "        on_mouse_event_closure('button_press')\n",
       "    );\n",
       "    rubberband_canvas.addEventListener(\n",
       "        'mouseup',\n",
       "        on_mouse_event_closure('button_release')\n",
       "    );\n",
       "    // Throttle sequential mouse events to 1 every 20ms.\n",
       "    rubberband_canvas.addEventListener(\n",
       "        'mousemove',\n",
       "        on_mouse_event_closure('motion_notify')\n",
       "    );\n",
       "\n",
       "    rubberband_canvas.addEventListener(\n",
       "        'mouseenter',\n",
       "        on_mouse_event_closure('figure_enter')\n",
       "    );\n",
       "    rubberband_canvas.addEventListener(\n",
       "        'mouseleave',\n",
       "        on_mouse_event_closure('figure_leave')\n",
       "    );\n",
       "\n",
       "    canvas_div.addEventListener('wheel', function (event) {\n",
       "        if (event.deltaY < 0) {\n",
       "            event.step = 1;\n",
       "        } else {\n",
       "            event.step = -1;\n",
       "        }\n",
       "        on_mouse_event_closure('scroll')(event);\n",
       "    });\n",
       "\n",
       "    canvas_div.appendChild(canvas);\n",
       "    canvas_div.appendChild(rubberband_canvas);\n",
       "\n",
       "    this.rubberband_context = rubberband_canvas.getContext('2d');\n",
       "    this.rubberband_context.strokeStyle = '#000000';\n",
       "\n",
       "    this._resize_canvas = function (width, height, forward) {\n",
       "        if (forward) {\n",
       "            canvas_div.style.width = width + 'px';\n",
       "            canvas_div.style.height = height + 'px';\n",
       "        }\n",
       "    };\n",
       "\n",
       "    // Disable right mouse context menu.\n",
       "    this.rubberband_canvas.addEventListener('contextmenu', function (_e) {\n",
       "        event.preventDefault();\n",
       "        return false;\n",
       "    });\n",
       "\n",
       "    function set_focus() {\n",
       "        canvas.focus();\n",
       "        canvas_div.focus();\n",
       "    }\n",
       "\n",
       "    window.setTimeout(set_focus, 100);\n",
       "};\n",
       "\n",
       "mpl.figure.prototype._init_toolbar = function () {\n",
       "    var fig = this;\n",
       "\n",
       "    var toolbar = document.createElement('div');\n",
       "    toolbar.classList = 'mpl-toolbar';\n",
       "    this.root.appendChild(toolbar);\n",
       "\n",
       "    function on_click_closure(name) {\n",
       "        return function (_event) {\n",
       "            return fig.toolbar_button_onclick(name);\n",
       "        };\n",
       "    }\n",
       "\n",
       "    function on_mouseover_closure(tooltip) {\n",
       "        return function (event) {\n",
       "            if (!event.currentTarget.disabled) {\n",
       "                return fig.toolbar_button_onmouseover(tooltip);\n",
       "            }\n",
       "        };\n",
       "    }\n",
       "\n",
       "    fig.buttons = {};\n",
       "    var buttonGroup = document.createElement('div');\n",
       "    buttonGroup.classList = 'mpl-button-group';\n",
       "    for (var toolbar_ind in mpl.toolbar_items) {\n",
       "        var name = mpl.toolbar_items[toolbar_ind][0];\n",
       "        var tooltip = mpl.toolbar_items[toolbar_ind][1];\n",
       "        var image = mpl.toolbar_items[toolbar_ind][2];\n",
       "        var method_name = mpl.toolbar_items[toolbar_ind][3];\n",
       "\n",
       "        if (!name) {\n",
       "            /* Instead of a spacer, we start a new button group. */\n",
       "            if (buttonGroup.hasChildNodes()) {\n",
       "                toolbar.appendChild(buttonGroup);\n",
       "            }\n",
       "            buttonGroup = document.createElement('div');\n",
       "            buttonGroup.classList = 'mpl-button-group';\n",
       "            continue;\n",
       "        }\n",
       "\n",
       "        var button = (fig.buttons[name] = document.createElement('button'));\n",
       "        button.classList = 'mpl-widget';\n",
       "        button.setAttribute('role', 'button');\n",
       "        button.setAttribute('aria-disabled', 'false');\n",
       "        button.addEventListener('click', on_click_closure(method_name));\n",
       "        button.addEventListener('mouseover', on_mouseover_closure(tooltip));\n",
       "\n",
       "        var icon_img = document.createElement('img');\n",
       "        icon_img.src = '_images/' + image + '.png';\n",
       "        icon_img.srcset = '_images/' + image + '_large.png 2x';\n",
       "        icon_img.alt = tooltip;\n",
       "        button.appendChild(icon_img);\n",
       "\n",
       "        buttonGroup.appendChild(button);\n",
       "    }\n",
       "\n",
       "    if (buttonGroup.hasChildNodes()) {\n",
       "        toolbar.appendChild(buttonGroup);\n",
       "    }\n",
       "\n",
       "    var fmt_picker = document.createElement('select');\n",
       "    fmt_picker.classList = 'mpl-widget';\n",
       "    toolbar.appendChild(fmt_picker);\n",
       "    this.format_dropdown = fmt_picker;\n",
       "\n",
       "    for (var ind in mpl.extensions) {\n",
       "        var fmt = mpl.extensions[ind];\n",
       "        var option = document.createElement('option');\n",
       "        option.selected = fmt === mpl.default_extension;\n",
       "        option.innerHTML = fmt;\n",
       "        fmt_picker.appendChild(option);\n",
       "    }\n",
       "\n",
       "    var status_bar = document.createElement('span');\n",
       "    status_bar.classList = 'mpl-message';\n",
       "    toolbar.appendChild(status_bar);\n",
       "    this.message = status_bar;\n",
       "};\n",
       "\n",
       "mpl.figure.prototype.request_resize = function (x_pixels, y_pixels) {\n",
       "    // Request matplotlib to resize the figure. Matplotlib will then trigger a resize in the client,\n",
       "    // which will in turn request a refresh of the image.\n",
       "    this.send_message('resize', { width: x_pixels, height: y_pixels });\n",
       "};\n",
       "\n",
       "mpl.figure.prototype.send_message = function (type, properties) {\n",
       "    properties['type'] = type;\n",
       "    properties['figure_id'] = this.id;\n",
       "    this.ws.send(JSON.stringify(properties));\n",
       "};\n",
       "\n",
       "mpl.figure.prototype.send_draw_message = function () {\n",
       "    if (!this.waiting) {\n",
       "        this.waiting = true;\n",
       "        this.ws.send(JSON.stringify({ type: 'draw', figure_id: this.id }));\n",
       "    }\n",
       "};\n",
       "\n",
       "mpl.figure.prototype.handle_save = function (fig, _msg) {\n",
       "    var format_dropdown = fig.format_dropdown;\n",
       "    var format = format_dropdown.options[format_dropdown.selectedIndex].value;\n",
       "    fig.ondownload(fig, format);\n",
       "};\n",
       "\n",
       "mpl.figure.prototype.handle_resize = function (fig, msg) {\n",
       "    var size = msg['size'];\n",
       "    if (size[0] !== fig.canvas.width || size[1] !== fig.canvas.height) {\n",
       "        fig._resize_canvas(size[0], size[1], msg['forward']);\n",
       "        fig.send_message('refresh', {});\n",
       "    }\n",
       "};\n",
       "\n",
       "mpl.figure.prototype.handle_rubberband = function (fig, msg) {\n",
       "    var x0 = msg['x0'] / fig.ratio;\n",
       "    var y0 = (fig.canvas.height - msg['y0']) / fig.ratio;\n",
       "    var x1 = msg['x1'] / fig.ratio;\n",
       "    var y1 = (fig.canvas.height - msg['y1']) / fig.ratio;\n",
       "    x0 = Math.floor(x0) + 0.5;\n",
       "    y0 = Math.floor(y0) + 0.5;\n",
       "    x1 = Math.floor(x1) + 0.5;\n",
       "    y1 = Math.floor(y1) + 0.5;\n",
       "    var min_x = Math.min(x0, x1);\n",
       "    var min_y = Math.min(y0, y1);\n",
       "    var width = Math.abs(x1 - x0);\n",
       "    var height = Math.abs(y1 - y0);\n",
       "\n",
       "    fig.rubberband_context.clearRect(\n",
       "        0,\n",
       "        0,\n",
       "        fig.canvas.width / fig.ratio,\n",
       "        fig.canvas.height / fig.ratio\n",
       "    );\n",
       "\n",
       "    fig.rubberband_context.strokeRect(min_x, min_y, width, height);\n",
       "};\n",
       "\n",
       "mpl.figure.prototype.handle_figure_label = function (fig, msg) {\n",
       "    // Updates the figure title.\n",
       "    fig.header.textContent = msg['label'];\n",
       "};\n",
       "\n",
       "mpl.figure.prototype.handle_cursor = function (fig, msg) {\n",
       "    var cursor = msg['cursor'];\n",
       "    switch (cursor) {\n",
       "        case 0:\n",
       "            cursor = 'pointer';\n",
       "            break;\n",
       "        case 1:\n",
       "            cursor = 'default';\n",
       "            break;\n",
       "        case 2:\n",
       "            cursor = 'crosshair';\n",
       "            break;\n",
       "        case 3:\n",
       "            cursor = 'move';\n",
       "            break;\n",
       "    }\n",
       "    fig.rubberband_canvas.style.cursor = cursor;\n",
       "};\n",
       "\n",
       "mpl.figure.prototype.handle_message = function (fig, msg) {\n",
       "    fig.message.textContent = msg['message'];\n",
       "};\n",
       "\n",
       "mpl.figure.prototype.handle_draw = function (fig, _msg) {\n",
       "    // Request the server to send over a new figure.\n",
       "    fig.send_draw_message();\n",
       "};\n",
       "\n",
       "mpl.figure.prototype.handle_image_mode = function (fig, msg) {\n",
       "    fig.image_mode = msg['mode'];\n",
       "};\n",
       "\n",
       "mpl.figure.prototype.handle_history_buttons = function (fig, msg) {\n",
       "    for (var key in msg) {\n",
       "        if (!(key in fig.buttons)) {\n",
       "            continue;\n",
       "        }\n",
       "        fig.buttons[key].disabled = !msg[key];\n",
       "        fig.buttons[key].setAttribute('aria-disabled', !msg[key]);\n",
       "    }\n",
       "};\n",
       "\n",
       "mpl.figure.prototype.handle_navigate_mode = function (fig, msg) {\n",
       "    if (msg['mode'] === 'PAN') {\n",
       "        fig.buttons['Pan'].classList.add('active');\n",
       "        fig.buttons['Zoom'].classList.remove('active');\n",
       "    } else if (msg['mode'] === 'ZOOM') {\n",
       "        fig.buttons['Pan'].classList.remove('active');\n",
       "        fig.buttons['Zoom'].classList.add('active');\n",
       "    } else {\n",
       "        fig.buttons['Pan'].classList.remove('active');\n",
       "        fig.buttons['Zoom'].classList.remove('active');\n",
       "    }\n",
       "};\n",
       "\n",
       "mpl.figure.prototype.updated_canvas_event = function () {\n",
       "    // Called whenever the canvas gets updated.\n",
       "    this.send_message('ack', {});\n",
       "};\n",
       "\n",
       "// A function to construct a web socket function for onmessage handling.\n",
       "// Called in the figure constructor.\n",
       "mpl.figure.prototype._make_on_message_function = function (fig) {\n",
       "    return function socket_on_message(evt) {\n",
       "        if (evt.data instanceof Blob) {\n",
       "            /* FIXME: We get \"Resource interpreted as Image but\n",
       "             * transferred with MIME type text/plain:\" errors on\n",
       "             * Chrome.  But how to set the MIME type?  It doesn't seem\n",
       "             * to be part of the websocket stream */\n",
       "            evt.data.type = 'image/png';\n",
       "\n",
       "            /* Free the memory for the previous frames */\n",
       "            if (fig.imageObj.src) {\n",
       "                (window.URL || window.webkitURL).revokeObjectURL(\n",
       "                    fig.imageObj.src\n",
       "                );\n",
       "            }\n",
       "\n",
       "            fig.imageObj.src = (window.URL || window.webkitURL).createObjectURL(\n",
       "                evt.data\n",
       "            );\n",
       "            fig.updated_canvas_event();\n",
       "            fig.waiting = false;\n",
       "            return;\n",
       "        } else if (\n",
       "            typeof evt.data === 'string' &&\n",
       "            evt.data.slice(0, 21) === 'data:image/png;base64'\n",
       "        ) {\n",
       "            fig.imageObj.src = evt.data;\n",
       "            fig.updated_canvas_event();\n",
       "            fig.waiting = false;\n",
       "            return;\n",
       "        }\n",
       "\n",
       "        var msg = JSON.parse(evt.data);\n",
       "        var msg_type = msg['type'];\n",
       "\n",
       "        // Call the  \"handle_{type}\" callback, which takes\n",
       "        // the figure and JSON message as its only arguments.\n",
       "        try {\n",
       "            var callback = fig['handle_' + msg_type];\n",
       "        } catch (e) {\n",
       "            console.log(\n",
       "                \"No handler for the '\" + msg_type + \"' message type: \",\n",
       "                msg\n",
       "            );\n",
       "            return;\n",
       "        }\n",
       "\n",
       "        if (callback) {\n",
       "            try {\n",
       "                // console.log(\"Handling '\" + msg_type + \"' message: \", msg);\n",
       "                callback(fig, msg);\n",
       "            } catch (e) {\n",
       "                console.log(\n",
       "                    \"Exception inside the 'handler_\" + msg_type + \"' callback:\",\n",
       "                    e,\n",
       "                    e.stack,\n",
       "                    msg\n",
       "                );\n",
       "            }\n",
       "        }\n",
       "    };\n",
       "};\n",
       "\n",
       "// from http://stackoverflow.com/questions/1114465/getting-mouse-location-in-canvas\n",
       "mpl.findpos = function (e) {\n",
       "    //this section is from http://www.quirksmode.org/js/events_properties.html\n",
       "    var targ;\n",
       "    if (!e) {\n",
       "        e = window.event;\n",
       "    }\n",
       "    if (e.target) {\n",
       "        targ = e.target;\n",
       "    } else if (e.srcElement) {\n",
       "        targ = e.srcElement;\n",
       "    }\n",
       "    if (targ.nodeType === 3) {\n",
       "        // defeat Safari bug\n",
       "        targ = targ.parentNode;\n",
       "    }\n",
       "\n",
       "    // pageX,Y are the mouse positions relative to the document\n",
       "    var boundingRect = targ.getBoundingClientRect();\n",
       "    var x = e.pageX - (boundingRect.left + document.body.scrollLeft);\n",
       "    var y = e.pageY - (boundingRect.top + document.body.scrollTop);\n",
       "\n",
       "    return { x: x, y: y };\n",
       "};\n",
       "\n",
       "/*\n",
       " * return a copy of an object with only non-object keys\n",
       " * we need this to avoid circular references\n",
       " * http://stackoverflow.com/a/24161582/3208463\n",
       " */\n",
       "function simpleKeys(original) {\n",
       "    return Object.keys(original).reduce(function (obj, key) {\n",
       "        if (typeof original[key] !== 'object') {\n",
       "            obj[key] = original[key];\n",
       "        }\n",
       "        return obj;\n",
       "    }, {});\n",
       "}\n",
       "\n",
       "mpl.figure.prototype.mouse_event = function (event, name) {\n",
       "    var canvas_pos = mpl.findpos(event);\n",
       "\n",
       "    if (name === 'button_press') {\n",
       "        this.canvas.focus();\n",
       "        this.canvas_div.focus();\n",
       "    }\n",
       "\n",
       "    var x = canvas_pos.x * this.ratio;\n",
       "    var y = canvas_pos.y * this.ratio;\n",
       "\n",
       "    this.send_message(name, {\n",
       "        x: x,\n",
       "        y: y,\n",
       "        button: event.button,\n",
       "        step: event.step,\n",
       "        guiEvent: simpleKeys(event),\n",
       "    });\n",
       "\n",
       "    /* This prevents the web browser from automatically changing to\n",
       "     * the text insertion cursor when the button is pressed.  We want\n",
       "     * to control all of the cursor setting manually through the\n",
       "     * 'cursor' event from matplotlib */\n",
       "    event.preventDefault();\n",
       "    return false;\n",
       "};\n",
       "\n",
       "mpl.figure.prototype._key_event_extra = function (_event, _name) {\n",
       "    // Handle any extra behaviour associated with a key event\n",
       "};\n",
       "\n",
       "mpl.figure.prototype.key_event = function (event, name) {\n",
       "    // Prevent repeat events\n",
       "    if (name === 'key_press') {\n",
       "        if (event.which === this._key) {\n",
       "            return;\n",
       "        } else {\n",
       "            this._key = event.which;\n",
       "        }\n",
       "    }\n",
       "    if (name === 'key_release') {\n",
       "        this._key = null;\n",
       "    }\n",
       "\n",
       "    var value = '';\n",
       "    if (event.ctrlKey && event.which !== 17) {\n",
       "        value += 'ctrl+';\n",
       "    }\n",
       "    if (event.altKey && event.which !== 18) {\n",
       "        value += 'alt+';\n",
       "    }\n",
       "    if (event.shiftKey && event.which !== 16) {\n",
       "        value += 'shift+';\n",
       "    }\n",
       "\n",
       "    value += 'k';\n",
       "    value += event.which.toString();\n",
       "\n",
       "    this._key_event_extra(event, name);\n",
       "\n",
       "    this.send_message(name, { key: value, guiEvent: simpleKeys(event) });\n",
       "    return false;\n",
       "};\n",
       "\n",
       "mpl.figure.prototype.toolbar_button_onclick = function (name) {\n",
       "    if (name === 'download') {\n",
       "        this.handle_save(this, null);\n",
       "    } else {\n",
       "        this.send_message('toolbar_button', { name: name });\n",
       "    }\n",
       "};\n",
       "\n",
       "mpl.figure.prototype.toolbar_button_onmouseover = function (tooltip) {\n",
       "    this.message.textContent = tooltip;\n",
       "};\n",
       "\n",
       "///////////////// REMAINING CONTENT GENERATED BY embed_js.py /////////////////\n",
       "// prettier-ignore\n",
       "var _JSXTOOLS_RESIZE_OBSERVER=function(A){var t,i=new WeakMap,n=new WeakMap,a=new WeakMap,r=new WeakMap,o=new Set;function s(e){if(!(this instanceof s))throw new TypeError(\"Constructor requires 'new' operator\");i.set(this,e)}function h(){throw new TypeError(\"Function is not a constructor\")}function c(e,t,i,n){e=0 in arguments?Number(arguments[0]):0,t=1 in arguments?Number(arguments[1]):0,i=2 in arguments?Number(arguments[2]):0,n=3 in arguments?Number(arguments[3]):0,this.right=(this.x=this.left=e)+(this.width=i),this.bottom=(this.y=this.top=t)+(this.height=n),Object.freeze(this)}function d(){t=requestAnimationFrame(d);var s=new WeakMap,p=new Set;o.forEach((function(t){r.get(t).forEach((function(i){var r=t instanceof window.SVGElement,o=a.get(t),d=r?0:parseFloat(o.paddingTop),f=r?0:parseFloat(o.paddingRight),l=r?0:parseFloat(o.paddingBottom),u=r?0:parseFloat(o.paddingLeft),g=r?0:parseFloat(o.borderTopWidth),m=r?0:parseFloat(o.borderRightWidth),w=r?0:parseFloat(o.borderBottomWidth),b=u+f,F=d+l,v=(r?0:parseFloat(o.borderLeftWidth))+m,W=g+w,y=r?0:t.offsetHeight-W-t.clientHeight,E=r?0:t.offsetWidth-v-t.clientWidth,R=b+v,z=F+W,M=r?t.width:parseFloat(o.width)-R-E,O=r?t.height:parseFloat(o.height)-z-y;if(n.has(t)){var k=n.get(t);if(k[0]===M&&k[1]===O)return}n.set(t,[M,O]);var S=Object.create(h.prototype);S.target=t,S.contentRect=new c(u,d,M,O),s.has(i)||(s.set(i,[]),p.add(i)),s.get(i).push(S)}))})),p.forEach((function(e){i.get(e).call(e,s.get(e),e)}))}return s.prototype.observe=function(i){if(i instanceof window.Element){r.has(i)||(r.set(i,new Set),o.add(i),a.set(i,window.getComputedStyle(i)));var n=r.get(i);n.has(this)||n.add(this),cancelAnimationFrame(t),t=requestAnimationFrame(d)}},s.prototype.unobserve=function(i){if(i instanceof window.Element&&r.has(i)){var n=r.get(i);n.has(this)&&(n.delete(this),n.size||(r.delete(i),o.delete(i))),n.size||r.delete(i),o.size||cancelAnimationFrame(t)}},A.DOMRectReadOnly=c,A.ResizeObserver=s,A.ResizeObserverEntry=h,A}; // eslint-disable-line\n",
       "mpl.toolbar_items = [[\"Home\", \"Reset original view\", \"fa fa-home icon-home\", \"home\"], [\"Back\", \"Back to previous view\", \"fa fa-arrow-left icon-arrow-left\", \"back\"], [\"Forward\", \"Forward to next view\", \"fa fa-arrow-right icon-arrow-right\", \"forward\"], [\"\", \"\", \"\", \"\"], [\"Pan\", \"Left button pans, Right button zooms\\nx/y fixes axis, CTRL fixes aspect\", \"fa fa-arrows icon-move\", \"pan\"], [\"Zoom\", \"Zoom to rectangle\\nx/y fixes axis, CTRL fixes aspect\", \"fa fa-square-o icon-check-empty\", \"zoom\"], [\"\", \"\", \"\", \"\"], [\"Download\", \"Download plot\", \"fa fa-floppy-o icon-save\", \"download\"]];\n",
       "\n",
       "mpl.extensions = [\"eps\", \"jpeg\", \"pdf\", \"png\", \"ps\", \"raw\", \"svg\", \"tif\"];\n",
       "\n",
       "mpl.default_extension = \"png\";/* global mpl */\n",
       "\n",
       "var comm_websocket_adapter = function (comm) {\n",
       "    // Create a \"websocket\"-like object which calls the given IPython comm\n",
       "    // object with the appropriate methods. Currently this is a non binary\n",
       "    // socket, so there is still some room for performance tuning.\n",
       "    var ws = {};\n",
       "\n",
       "    ws.close = function () {\n",
       "        comm.close();\n",
       "    };\n",
       "    ws.send = function (m) {\n",
       "        //console.log('sending', m);\n",
       "        comm.send(m);\n",
       "    };\n",
       "    // Register the callback with on_msg.\n",
       "    comm.on_msg(function (msg) {\n",
       "        //console.log('receiving', msg['content']['data'], msg);\n",
       "        // Pass the mpl event to the overridden (by mpl) onmessage function.\n",
       "        ws.onmessage(msg['content']['data']);\n",
       "    });\n",
       "    return ws;\n",
       "};\n",
       "\n",
       "mpl.mpl_figure_comm = function (comm, msg) {\n",
       "    // This is the function which gets called when the mpl process\n",
       "    // starts-up an IPython Comm through the \"matplotlib\" channel.\n",
       "\n",
       "    var id = msg.content.data.id;\n",
       "    // Get hold of the div created by the display call when the Comm\n",
       "    // socket was opened in Python.\n",
       "    var element = document.getElementById(id);\n",
       "    var ws_proxy = comm_websocket_adapter(comm);\n",
       "\n",
       "    function ondownload(figure, _format) {\n",
       "        window.open(figure.canvas.toDataURL());\n",
       "    }\n",
       "\n",
       "    var fig = new mpl.figure(id, ws_proxy, ondownload, element);\n",
       "\n",
       "    // Call onopen now - mpl needs it, as it is assuming we've passed it a real\n",
       "    // web socket which is closed, not our websocket->open comm proxy.\n",
       "    ws_proxy.onopen();\n",
       "\n",
       "    fig.parent_element = element;\n",
       "    fig.cell_info = mpl.find_output_cell(\"<div id='\" + id + \"'></div>\");\n",
       "    if (!fig.cell_info) {\n",
       "        console.error('Failed to find cell for figure', id, fig);\n",
       "        return;\n",
       "    }\n",
       "    fig.cell_info[0].output_area.element.on(\n",
       "        'cleared',\n",
       "        { fig: fig },\n",
       "        fig._remove_fig_handler\n",
       "    );\n",
       "};\n",
       "\n",
       "mpl.figure.prototype.handle_close = function (fig, msg) {\n",
       "    var width = fig.canvas.width / fig.ratio;\n",
       "    fig.cell_info[0].output_area.element.off(\n",
       "        'cleared',\n",
       "        fig._remove_fig_handler\n",
       "    );\n",
       "    fig.resizeObserverInstance.unobserve(fig.canvas_div);\n",
       "\n",
       "    // Update the output cell to use the data from the current canvas.\n",
       "    fig.push_to_output();\n",
       "    var dataURL = fig.canvas.toDataURL();\n",
       "    // Re-enable the keyboard manager in IPython - without this line, in FF,\n",
       "    // the notebook keyboard shortcuts fail.\n",
       "    IPython.keyboard_manager.enable();\n",
       "    fig.parent_element.innerHTML =\n",
       "        '<img src=\"' + dataURL + '\" width=\"' + width + '\">';\n",
       "    fig.close_ws(fig, msg);\n",
       "};\n",
       "\n",
       "mpl.figure.prototype.close_ws = function (fig, msg) {\n",
       "    fig.send_message('closing', msg);\n",
       "    // fig.ws.close()\n",
       "};\n",
       "\n",
       "mpl.figure.prototype.push_to_output = function (_remove_interactive) {\n",
       "    // Turn the data on the canvas into data in the output cell.\n",
       "    var width = this.canvas.width / this.ratio;\n",
       "    var dataURL = this.canvas.toDataURL();\n",
       "    this.cell_info[1]['text/html'] =\n",
       "        '<img src=\"' + dataURL + '\" width=\"' + width + '\">';\n",
       "};\n",
       "\n",
       "mpl.figure.prototype.updated_canvas_event = function () {\n",
       "    // Tell IPython that the notebook contents must change.\n",
       "    IPython.notebook.set_dirty(true);\n",
       "    this.send_message('ack', {});\n",
       "    var fig = this;\n",
       "    // Wait a second, then push the new image to the DOM so\n",
       "    // that it is saved nicely (might be nice to debounce this).\n",
       "    setTimeout(function () {\n",
       "        fig.push_to_output();\n",
       "    }, 1000);\n",
       "};\n",
       "\n",
       "mpl.figure.prototype._init_toolbar = function () {\n",
       "    var fig = this;\n",
       "\n",
       "    var toolbar = document.createElement('div');\n",
       "    toolbar.classList = 'btn-toolbar';\n",
       "    this.root.appendChild(toolbar);\n",
       "\n",
       "    function on_click_closure(name) {\n",
       "        return function (_event) {\n",
       "            return fig.toolbar_button_onclick(name);\n",
       "        };\n",
       "    }\n",
       "\n",
       "    function on_mouseover_closure(tooltip) {\n",
       "        return function (event) {\n",
       "            if (!event.currentTarget.disabled) {\n",
       "                return fig.toolbar_button_onmouseover(tooltip);\n",
       "            }\n",
       "        };\n",
       "    }\n",
       "\n",
       "    fig.buttons = {};\n",
       "    var buttonGroup = document.createElement('div');\n",
       "    buttonGroup.classList = 'btn-group';\n",
       "    var button;\n",
       "    for (var toolbar_ind in mpl.toolbar_items) {\n",
       "        var name = mpl.toolbar_items[toolbar_ind][0];\n",
       "        var tooltip = mpl.toolbar_items[toolbar_ind][1];\n",
       "        var image = mpl.toolbar_items[toolbar_ind][2];\n",
       "        var method_name = mpl.toolbar_items[toolbar_ind][3];\n",
       "\n",
       "        if (!name) {\n",
       "            /* Instead of a spacer, we start a new button group. */\n",
       "            if (buttonGroup.hasChildNodes()) {\n",
       "                toolbar.appendChild(buttonGroup);\n",
       "            }\n",
       "            buttonGroup = document.createElement('div');\n",
       "            buttonGroup.classList = 'btn-group';\n",
       "            continue;\n",
       "        }\n",
       "\n",
       "        button = fig.buttons[name] = document.createElement('button');\n",
       "        button.classList = 'btn btn-default';\n",
       "        button.href = '#';\n",
       "        button.title = name;\n",
       "        button.innerHTML = '<i class=\"fa ' + image + ' fa-lg\"></i>';\n",
       "        button.addEventListener('click', on_click_closure(method_name));\n",
       "        button.addEventListener('mouseover', on_mouseover_closure(tooltip));\n",
       "        buttonGroup.appendChild(button);\n",
       "    }\n",
       "\n",
       "    if (buttonGroup.hasChildNodes()) {\n",
       "        toolbar.appendChild(buttonGroup);\n",
       "    }\n",
       "\n",
       "    // Add the status bar.\n",
       "    var status_bar = document.createElement('span');\n",
       "    status_bar.classList = 'mpl-message pull-right';\n",
       "    toolbar.appendChild(status_bar);\n",
       "    this.message = status_bar;\n",
       "\n",
       "    // Add the close button to the window.\n",
       "    var buttongrp = document.createElement('div');\n",
       "    buttongrp.classList = 'btn-group inline pull-right';\n",
       "    button = document.createElement('button');\n",
       "    button.classList = 'btn btn-mini btn-primary';\n",
       "    button.href = '#';\n",
       "    button.title = 'Stop Interaction';\n",
       "    button.innerHTML = '<i class=\"fa fa-power-off icon-remove icon-large\"></i>';\n",
       "    button.addEventListener('click', function (_evt) {\n",
       "        fig.handle_close(fig, {});\n",
       "    });\n",
       "    button.addEventListener(\n",
       "        'mouseover',\n",
       "        on_mouseover_closure('Stop Interaction')\n",
       "    );\n",
       "    buttongrp.appendChild(button);\n",
       "    var titlebar = this.root.querySelector('.ui-dialog-titlebar');\n",
       "    titlebar.insertBefore(buttongrp, titlebar.firstChild);\n",
       "};\n",
       "\n",
       "mpl.figure.prototype._remove_fig_handler = function (event) {\n",
       "    var fig = event.data.fig;\n",
       "    if (event.target !== this) {\n",
       "        // Ignore bubbled events from children.\n",
       "        return;\n",
       "    }\n",
       "    fig.close_ws(fig, {});\n",
       "};\n",
       "\n",
       "mpl.figure.prototype._root_extra_style = function (el) {\n",
       "    el.style.boxSizing = 'content-box'; // override notebook setting of border-box.\n",
       "};\n",
       "\n",
       "mpl.figure.prototype._canvas_extra_style = function (el) {\n",
       "    // this is important to make the div 'focusable\n",
       "    el.setAttribute('tabindex', 0);\n",
       "    // reach out to IPython and tell the keyboard manager to turn it's self\n",
       "    // off when our div gets focus\n",
       "\n",
       "    // location in version 3\n",
       "    if (IPython.notebook.keyboard_manager) {\n",
       "        IPython.notebook.keyboard_manager.register_events(el);\n",
       "    } else {\n",
       "        // location in version 2\n",
       "        IPython.keyboard_manager.register_events(el);\n",
       "    }\n",
       "};\n",
       "\n",
       "mpl.figure.prototype._key_event_extra = function (event, _name) {\n",
       "    var manager = IPython.notebook.keyboard_manager;\n",
       "    if (!manager) {\n",
       "        manager = IPython.keyboard_manager;\n",
       "    }\n",
       "\n",
       "    // Check for shift+enter\n",
       "    if (event.shiftKey && event.which === 13) {\n",
       "        this.canvas_div.blur();\n",
       "        // select the cell after this one\n",
       "        var index = IPython.notebook.find_cell_index(this.cell_info[0]);\n",
       "        IPython.notebook.select(index + 1);\n",
       "    }\n",
       "};\n",
       "\n",
       "mpl.figure.prototype.handle_save = function (fig, _msg) {\n",
       "    fig.ondownload(fig, null);\n",
       "};\n",
       "\n",
       "mpl.find_output_cell = function (html_output) {\n",
       "    // Return the cell and output element which can be found *uniquely* in the notebook.\n",
       "    // Note - this is a bit hacky, but it is done because the \"notebook_saving.Notebook\"\n",
       "    // IPython event is triggered only after the cells have been serialised, which for\n",
       "    // our purposes (turning an active figure into a static one), is too late.\n",
       "    var cells = IPython.notebook.get_cells();\n",
       "    var ncells = cells.length;\n",
       "    for (var i = 0; i < ncells; i++) {\n",
       "        var cell = cells[i];\n",
       "        if (cell.cell_type === 'code') {\n",
       "            for (var j = 0; j < cell.output_area.outputs.length; j++) {\n",
       "                var data = cell.output_area.outputs[j];\n",
       "                if (data.data) {\n",
       "                    // IPython >= 3 moved mimebundle to data attribute of output\n",
       "                    data = data.data;\n",
       "                }\n",
       "                if (data['text/html'] === html_output) {\n",
       "                    return [cell, data, j];\n",
       "                }\n",
       "            }\n",
       "        }\n",
       "    }\n",
       "};\n",
       "\n",
       "// Register the function which deals with the matplotlib target/channel.\n",
       "// The kernel may be null if the page has been refreshed.\n",
       "if (IPython.notebook.kernel !== null) {\n",
       "    IPython.notebook.kernel.comm_manager.register_target(\n",
       "        'matplotlib',\n",
       "        mpl.mpl_figure_comm\n",
       "    );\n",
       "}\n"
      ],
      "text/plain": [
       "<IPython.core.display.Javascript object>"
      ]
     },
     "metadata": {},
     "output_type": "display_data"
    },
    {
     "data": {
      "text/html": [
       "<img src=\"data:image/png;base64,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\" width=\"853.4999745637186\">"
      ],
      "text/plain": [
       "<IPython.core.display.HTML object>"
      ]
     },
     "metadata": {},
     "output_type": "display_data"
    }
   ],
   "source": [
    "from mpl_toolkits.mplot3d import Axes3D  \n",
    "import matplotlib.pyplot as plt\n",
    "import numpy as np\n",
    "\n",
    "%matplotlib notebook\n",
    "\n",
    "# show the drone path\n",
    "fig = plt.figure()\n",
    "ax = fig.add_subplot(111, projection='3d')\n",
    "\n",
    "\n",
    "# sample a path at regular points\n",
    "def sample_path(path, ts):\n",
    "    return np.array([path.get(t).as_list() for t in ts])\n",
    "   \n",
    "# plot the drone path    \n",
    "times = np.linspace(-10, 60, 500)\n",
    "label_times = times[180:-180:20]\n",
    "np_path = sample_path(drone_path, times)\n",
    "ax.scatter(np_path[:,0], np_path[:,1], np_path[:,2], cmap='viridis', c=times)\n",
    "ax.text(0,0,0,\"Launch point\")\n",
    "\n",
    "# show some time labels on the path\n",
    "for t in label_times:\n",
    "    # we can sample at *any* time, which makes this easy to write\n",
    "    drone_pt = drone_path.get(t)\n",
    "    ax.text(drone_pt.x, drone_pt.y, drone_pt.z, f\"{t:.1f}s\")\n"
   ]
  },
  {
   "cell_type": "code",
   "execution_count": null,
   "metadata": {},
   "outputs": [],
   "source": []
  },
  {
   "cell_type": "code",
   "execution_count": null,
   "metadata": {},
   "outputs": [],
   "source": []
  },
  {
   "cell_type": "code",
   "execution_count": null,
   "metadata": {},
   "outputs": [],
   "source": []
  },
  {
   "cell_type": "code",
   "execution_count": null,
   "metadata": {},
   "outputs": [],
   "source": []
  },
  {
   "cell_type": "code",
   "execution_count": null,
   "metadata": {},
   "outputs": [],
   "source": []
  },
  {
   "cell_type": "code",
   "execution_count": 47,
   "metadata": {},
   "outputs": [
    {
     "data": {
      "text/html": [
       "<style>.container { width:90% !important; }</style>"
      ],
      "text/plain": [
       "<IPython.core.display.HTML object>"
      ]
     },
     "metadata": {},
     "output_type": "display_data"
    }
   ],
   "source": [
    "# run this cell to change the width of the current notebook\n",
    "# this saves you from scrolling to the side when a code line is too long\n",
    "\n",
    "from IPython.core.display import display, HTML\n",
    "display(HTML(\"<style>.container { width:90% !important; }</style>\"))"
   ]
  },
  {
   "cell_type": "code",
   "execution_count": null,
   "metadata": {},
   "outputs": [],
   "source": []
  }
 ],
 "metadata": {
  "kernelspec": {
   "display_name": "Python 3",
   "language": "python",
   "name": "python3"
  },
  "language_info": {
   "codemirror_mode": {
    "name": "ipython",
    "version": 3
   },
   "file_extension": ".py",
   "mimetype": "text/x-python",
   "name": "python",
   "nbconvert_exporter": "python",
   "pygments_lexer": "ipython3",
   "version": "3.8.8"
  },
  "latex_envs": {
   "LaTeX_envs_menu_present": true,
   "autoclose": false,
   "autocomplete": true,
   "bibliofile": "biblio.bib",
   "cite_by": "apalike",
   "current_citInitial": 1,
   "eqLabelWithNumbers": true,
   "eqNumInitial": 1,
   "hotkeys": {
    "equation": "Ctrl-E",
    "itemize": "Ctrl-I"
   },
   "labels_anchors": false,
   "latex_user_defs": false,
   "report_style_numbering": false,
   "user_envs_cfg": false
  },
  "toc": {
   "base_numbering": 1,
   "nav_menu": {},
   "number_sections": false,
   "sideBar": true,
   "skip_h1_title": true,
   "title_cell": "Table of Contents",
   "title_sidebar": "Contents",
   "toc_cell": false,
   "toc_position": {},
   "toc_section_display": true,
   "toc_window_display": false
  },
  "varInspector": {
   "cols": {
    "lenName": 16,
    "lenType": 16,
    "lenVar": 40
   },
   "kernels_config": {
    "python": {
     "delete_cmd_postfix": "",
     "delete_cmd_prefix": "del ",
     "library": "var_list.py",
     "varRefreshCmd": "print(var_dic_list())"
    },
    "r": {
     "delete_cmd_postfix": ") ",
     "delete_cmd_prefix": "rm(",
     "library": "var_list.r",
     "varRefreshCmd": "cat(var_dic_list()) "
    }
   },
   "types_to_exclude": [
    "module",
    "function",
    "builtin_function_or_method",
    "instance",
    "_Feature"
   ],
   "window_display": false
  }
 },
 "nbformat": 4,
 "nbformat_minor": 4
}
