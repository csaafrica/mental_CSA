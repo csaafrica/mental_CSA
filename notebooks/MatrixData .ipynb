{
 "cells": [
  {
   "cell_type": "code",
   "execution_count": 25,
   "id": "f74b551d-bc09-40e9-aade-08e2256e4ced",
   "metadata": {},
   "outputs": [
    {
     "data": {
      "text/plain": [
       "[1, 2, 3]"
      ]
     },
     "execution_count": 25,
     "metadata": {},
     "output_type": "execute_result"
    }
   ],
   "source": [
    "matrix=[\n",
    "    [1,2,3], \n",
    "    [4,5,6], \n",
    "    [7,8,9]\n",
    "       ]\n",
    "matrix[0]"
   ]
  },
  {
   "cell_type": "code",
   "execution_count": 26,
   "id": "62ce80b3-c299-45d8-a0a5-929985a7a74f",
   "metadata": {},
   "outputs": [
    {
     "data": {
      "text/plain": [
       "6"
      ]
     },
     "execution_count": 26,
     "metadata": {},
     "output_type": "execute_result"
    }
   ],
   "source": [
    "matrix[1][2]"
   ]
  },
  {
   "cell_type": "code",
   "execution_count": 11,
   "id": "c546d9fc-33f3-4910-899c-285e69681bcb",
   "metadata": {},
   "outputs": [
    {
     "data": {
      "text/plain": [
       "9"
      ]
     },
     "execution_count": 11,
     "metadata": {},
     "output_type": "execute_result"
    }
   ],
   "source": [
    "matrix[2][2]"
   ]
  },
  {
   "cell_type": "code",
   "execution_count": 12,
   "id": "a8370075-5c2a-4aef-ad12-9ce8c22bf482",
   "metadata": {},
   "outputs": [
    {
     "data": {
      "text/plain": [
       "[[1, 2, 3], [4, 5, 6]]"
      ]
     },
     "execution_count": 12,
     "metadata": {},
     "output_type": "execute_result"
    }
   ],
   "source": [
    "matrix[0:2]"
   ]
  },
  {
   "cell_type": "code",
   "execution_count": 16,
   "id": "6efabd36-ef4a-4c19-8134-58a5bff352f3",
   "metadata": {},
   "outputs": [
    {
     "data": {
      "text/plain": [
       "[[7, 8, 9]]"
      ]
     },
     "execution_count": 16,
     "metadata": {},
     "output_type": "execute_result"
    }
   ],
   "source": [
    "matrix[2:3]"
   ]
  },
  {
   "cell_type": "code",
   "execution_count": 17,
   "id": "55c23b3d-95d5-4050-8ad8-2c0045d2bf9c",
   "metadata": {},
   "outputs": [
    {
     "data": {
      "text/plain": [
       "[4, 5]"
      ]
     },
     "execution_count": 17,
     "metadata": {},
     "output_type": "execute_result"
    }
   ],
   "source": [
    "matrix[1][0:2]"
   ]
  },
  {
   "cell_type": "code",
   "execution_count": 27,
   "id": "01d3d576-e26b-4700-806f-c1c819ec60af",
   "metadata": {},
   "outputs": [
    {
     "data": {
      "text/plain": [
       "[9]"
      ]
     },
     "execution_count": 27,
     "metadata": {},
     "output_type": "execute_result"
    }
   ],
   "source": [
    "matrix[2][2:3]"
   ]
  },
  {
   "cell_type": "code",
   "execution_count": 22,
   "id": "0c410153-5c49-4bca-aa2f-3b56c0c37e49",
   "metadata": {},
   "outputs": [
    {
     "data": {
      "text/plain": [
       "[1, 4, 7]"
      ]
     },
     "execution_count": 22,
     "metadata": {},
     "output_type": "execute_result"
    }
   ],
   "source": [
    "[row[0] for row in matrix]"
   ]
  },
  {
   "cell_type": "code",
   "execution_count": 23,
   "id": "4fe6011d-7f2c-4838-82d1-84329928b5de",
   "metadata": {},
   "outputs": [
    {
     "data": {
      "text/plain": [
       "[3, 6, 9]"
      ]
     },
     "execution_count": 23,
     "metadata": {},
     "output_type": "execute_result"
    }
   ],
   "source": [
    "[row[2] for row in matrix]"
   ]
  },
  {
   "cell_type": "code",
   "execution_count": 34,
   "id": "8a765607-c9ae-4a62-931c-f2e5eb1af4fa",
   "metadata": {},
   "outputs": [
    {
     "data": {
      "text/plain": [
       "{'age': 15, 'grade': 'A'}"
      ]
     },
     "execution_count": 34,
     "metadata": {},
     "output_type": "execute_result"
    }
   ],
   "source": [
    "students={\n",
    "    \"John\":{\"age\": 15, \"grade\": \"A\"},\n",
    "    \"Travis\":{\"age\": 4, \"grade\": \"A\"}\n",
    "}\n",
    "students[\"John\"]"
   ]
  },
  {
   "cell_type": "code",
   "execution_count": 35,
   "id": "50cc576b-679a-405d-bf12-695056d89c78",
   "metadata": {},
   "outputs": [
    {
     "data": {
      "text/plain": [
       "15"
      ]
     },
     "execution_count": 35,
     "metadata": {},
     "output_type": "execute_result"
    }
   ],
   "source": [
    "students[\"John\"][\"age\"]"
   ]
  },
  {
   "cell_type": "code",
   "execution_count": 36,
   "id": "5fc1552d-a8ef-4e6c-b5de-1907baccdf0d",
   "metadata": {},
   "outputs": [],
   "source": [
    "#\n",
    "data={\n",
    "    \"Math\":[90,80,85],\n",
    "    \"Science\":[75,85,92]\n",
    "}"
   ]
  },
  {
   "cell_type": "code",
   "execution_count": 38,
   "id": "915cab73-da73-4ed3-af82-378b10830c8f",
   "metadata": {},
   "outputs": [
    {
     "data": {
      "text/plain": [
       "[80, 85]"
      ]
     },
     "execution_count": 38,
     "metadata": {},
     "output_type": "execute_result"
    }
   ],
   "source": [
    "data[\"Math\"][1:]"
   ]
  },
  {
   "cell_type": "code",
   "execution_count": 41,
   "id": "7aee4d23-98ef-40b8-8531-ee5deac3752b",
   "metadata": {},
   "outputs": [],
   "source": [
    "records=[\n",
    "    {\"name\":\"John\",\"score\":90},\n",
    "    {\"name\":\"Alice\",\"score\": 85},\n",
    "    {\"name\":\"Bob\",\"score\": 80}\n",
    "]"
   ]
  },
  {
   "cell_type": "code",
   "execution_count": 42,
   "id": "4d25398c-0bf9-44b4-9598-03458bbed534",
   "metadata": {},
   "outputs": [
    {
     "data": {
      "text/plain": [
       "[{'name': 'Alice', 'score': 85}, {'name': 'Bob', 'score': 80}]"
      ]
     },
     "execution_count": 42,
     "metadata": {},
     "output_type": "execute_result"
    }
   ],
   "source": [
    "records[1:]"
   ]
  },
  {
   "cell_type": "code",
   "execution_count": 44,
   "id": "91c76369-4eab-411c-8adf-fba4b046be86",
   "metadata": {},
   "outputs": [
    {
     "data": {
      "text/plain": [
       "[{'name': 'John', 'score': 90}, {'name': 'Alice', 'score': 85}]"
      ]
     },
     "execution_count": 44,
     "metadata": {},
     "output_type": "execute_result"
    }
   ],
   "source": [
    "records[0:2]"
   ]
  },
  {
   "cell_type": "code",
   "execution_count": 45,
   "id": "d41e7ab4-ad71-4b9c-84d0-9deac8ed8cca",
   "metadata": {},
   "outputs": [
    {
     "data": {
      "text/plain": [
       "[{'name': 'Bob', 'score': 80}]"
      ]
     },
     "execution_count": 45,
     "metadata": {},
     "output_type": "execute_result"
    }
   ],
   "source": [
    "records[2:4]"
   ]
  },
  {
   "cell_type": "code",
   "execution_count": 56,
   "id": "40c234cd-0ded-41a3-b969-382d86b33059",
   "metadata": {},
   "outputs": [],
   "source": [
    "#complex_data={\n",
    "   # {\n",
    "    # \"name\":\"John\",\n",
    "   #     \"grades\":{\n",
    "  #          \"math\":[90,85,88],\n",
    "     #   \"science\":[78,92]\n",
    "    #    }\n",
    "  #  },\n",
    "   # {\n",
    " #       \"name\":\"Alice\",\n",
    "#       \"grades\":{\n",
    "  #          \"math\":[80,87,84],\n",
    " #       \"science\":[88,90]\n",
    "  #     }\n",
    "   # },\n",
    "    #     }\n",
    "#\n"
   ]
  },
  {
   "cell_type": "code",
   "execution_count": null,
   "id": "eeb1e567-509a-426d-b62b-10e5b07045ed",
   "metadata": {},
   "outputs": [],
   "source": []
  },
  {
   "cell_type": "code",
   "execution_count": null,
   "id": "bb277343-798c-429d-8bc1-03b999cd5156",
   "metadata": {},
   "outputs": [],
   "source": []
  },
  {
   "cell_type": "code",
   "execution_count": null,
   "id": "ee3571d4-176d-4df7-b1c0-3f5283dfe329",
   "metadata": {},
   "outputs": [],
   "source": []
  }
 ],
 "metadata": {
  "kernelspec": {
   "display_name": "Python 3 (ipykernel)",
   "language": "python",
   "name": "python3"
  },
  "language_info": {
   "codemirror_mode": {
    "name": "ipython",
    "version": 3
   },
   "file_extension": ".py",
   "mimetype": "text/x-python",
   "name": "python",
   "nbconvert_exporter": "python",
   "pygments_lexer": "ipython3",
   "version": "3.10.18"
  }
 },
 "nbformat": 4,
 "nbformat_minor": 5
}
